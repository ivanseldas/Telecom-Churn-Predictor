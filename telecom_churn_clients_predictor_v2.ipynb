{
  "cells": [
    {
      "cell_type": "code",
      "execution_count": null,
      "metadata": {},
      "outputs": [],
      "source": [
        "import pandas as pd\n",
        "import numpy as np\n",
        "import matplotlib.pyplot as plt\n",
        "import seaborn as sns\n",
        "\n",
        "import xgboost as xgb\n",
        "\n",
        "from sklearn.preprocessing import StandardScaler, OneHotEncoder\n",
        "from sklearn.compose import ColumnTransformer\n",
        "from sklearn.pipeline import Pipeline\n",
        "from sklearn.model_selection import train_test_split, GridSearchCV, ParameterGrid, KFold\n",
        "from sklearn.linear_model import LogisticRegression\n",
        "from sklearn.ensemble import RandomForestClassifier\n",
        "from sklearn.metrics import (\n",
        "    accuracy_score,\n",
        "    precision_score,\n",
        "    recall_score,\n",
        "    f1_score,\n",
        "    roc_auc_score,\n",
        "    roc_curve,\n",
        "    auc,\n",
        ")\n",
        "\n",
        "sns.set_theme(context=\"notebook\", style=\"whitegrid\")"
      ]
    },
    {
      "cell_type": "markdown",
      "metadata": {
        "id": "50d90d3a"
      },
      "source": [
        "## Load Data\n",
        "Initial data load and structural sanity check (schema, sample, target balance)."
      ]
    },
    {
      "cell_type": "markdown",
      "metadata": {
        "id": "0253423e"
      },
      "source": [
        "Load file → preview → dtypes → summary statistics → churn class distribution."
      ]
    },
    {
      "cell_type": "code",
      "execution_count": 161,
      "metadata": {
        "colab": {
          "base_uri": "https://localhost:8080/",
          "height": 1000
        },
        "id": "e83d1f55",
        "outputId": "955d2943-3aa9-49d8-d9e8-5f9d51f418de"
      },
      "outputs": [
        {
          "name": "stdout",
          "output_type": "stream",
          "text": [
            "First 5 rows of the DataFrame:\n"
          ]
        },
        {
          "data": {
            "text/html": [
              "<div>\n",
              "<style scoped>\n",
              "    .dataframe tbody tr th:only-of-type {\n",
              "        vertical-align: middle;\n",
              "    }\n",
              "\n",
              "    .dataframe tbody tr th {\n",
              "        vertical-align: top;\n",
              "    }\n",
              "\n",
              "    .dataframe thead th {\n",
              "        text-align: right;\n",
              "    }\n",
              "</style>\n",
              "<table border=\"1\" class=\"dataframe\">\n",
              "  <thead>\n",
              "    <tr style=\"text-align: right;\">\n",
              "      <th></th>\n",
              "      <th>state</th>\n",
              "      <th>area_code</th>\n",
              "      <th>phone_number</th>\n",
              "      <th>international_plan</th>\n",
              "      <th>voice_mail_plan</th>\n",
              "      <th>number_vmail_messages</th>\n",
              "      <th>total_day_minutes</th>\n",
              "      <th>total_day_calls</th>\n",
              "      <th>total_day_charge</th>\n",
              "      <th>total_eve_minutes</th>\n",
              "      <th>total_eve_calls</th>\n",
              "      <th>total_eve_charge</th>\n",
              "      <th>total_night_minutes</th>\n",
              "      <th>total_night_calls</th>\n",
              "      <th>total_night_charge</th>\n",
              "      <th>total_intl_minutes</th>\n",
              "      <th>total_intl_calls</th>\n",
              "      <th>total_intl_charge</th>\n",
              "      <th>number_customer_service_calls</th>\n",
              "      <th>Churn</th>\n",
              "    </tr>\n",
              "  </thead>\n",
              "  <tbody>\n",
              "    <tr>\n",
              "      <th>0</th>\n",
              "      <td>KS</td>\n",
              "      <td>415</td>\n",
              "      <td>382-4657</td>\n",
              "      <td>no</td>\n",
              "      <td>yes</td>\n",
              "      <td>25</td>\n",
              "      <td>265.1</td>\n",
              "      <td>110</td>\n",
              "      <td>45.07</td>\n",
              "      <td>197.4</td>\n",
              "      <td>99</td>\n",
              "      <td>16.78</td>\n",
              "      <td>244.7</td>\n",
              "      <td>91</td>\n",
              "      <td>11.01</td>\n",
              "      <td>10.0</td>\n",
              "      <td>3</td>\n",
              "      <td>2.70</td>\n",
              "      <td>1</td>\n",
              "      <td>False</td>\n",
              "    </tr>\n",
              "    <tr>\n",
              "      <th>1</th>\n",
              "      <td>OH</td>\n",
              "      <td>415</td>\n",
              "      <td>371-7191</td>\n",
              "      <td>no</td>\n",
              "      <td>yes</td>\n",
              "      <td>26</td>\n",
              "      <td>161.6</td>\n",
              "      <td>123</td>\n",
              "      <td>27.47</td>\n",
              "      <td>195.5</td>\n",
              "      <td>103</td>\n",
              "      <td>16.62</td>\n",
              "      <td>254.4</td>\n",
              "      <td>103</td>\n",
              "      <td>11.45</td>\n",
              "      <td>13.7</td>\n",
              "      <td>3</td>\n",
              "      <td>3.70</td>\n",
              "      <td>1</td>\n",
              "      <td>False</td>\n",
              "    </tr>\n",
              "    <tr>\n",
              "      <th>2</th>\n",
              "      <td>NJ</td>\n",
              "      <td>415</td>\n",
              "      <td>358-1921</td>\n",
              "      <td>no</td>\n",
              "      <td>no</td>\n",
              "      <td>0</td>\n",
              "      <td>243.4</td>\n",
              "      <td>114</td>\n",
              "      <td>41.38</td>\n",
              "      <td>121.2</td>\n",
              "      <td>110</td>\n",
              "      <td>10.30</td>\n",
              "      <td>162.6</td>\n",
              "      <td>104</td>\n",
              "      <td>7.32</td>\n",
              "      <td>12.2</td>\n",
              "      <td>5</td>\n",
              "      <td>3.29</td>\n",
              "      <td>0</td>\n",
              "      <td>False</td>\n",
              "    </tr>\n",
              "    <tr>\n",
              "      <th>3</th>\n",
              "      <td>OH</td>\n",
              "      <td>408</td>\n",
              "      <td>375-9999</td>\n",
              "      <td>yes</td>\n",
              "      <td>no</td>\n",
              "      <td>0</td>\n",
              "      <td>299.4</td>\n",
              "      <td>71</td>\n",
              "      <td>50.90</td>\n",
              "      <td>61.9</td>\n",
              "      <td>88</td>\n",
              "      <td>5.26</td>\n",
              "      <td>196.9</td>\n",
              "      <td>89</td>\n",
              "      <td>8.86</td>\n",
              "      <td>6.6</td>\n",
              "      <td>7</td>\n",
              "      <td>1.78</td>\n",
              "      <td>2</td>\n",
              "      <td>False</td>\n",
              "    </tr>\n",
              "    <tr>\n",
              "      <th>4</th>\n",
              "      <td>OK</td>\n",
              "      <td>415</td>\n",
              "      <td>330-6626</td>\n",
              "      <td>yes</td>\n",
              "      <td>no</td>\n",
              "      <td>0</td>\n",
              "      <td>166.7</td>\n",
              "      <td>113</td>\n",
              "      <td>28.34</td>\n",
              "      <td>148.3</td>\n",
              "      <td>122</td>\n",
              "      <td>12.61</td>\n",
              "      <td>186.9</td>\n",
              "      <td>121</td>\n",
              "      <td>8.41</td>\n",
              "      <td>10.1</td>\n",
              "      <td>3</td>\n",
              "      <td>2.73</td>\n",
              "      <td>3</td>\n",
              "      <td>False</td>\n",
              "    </tr>\n",
              "  </tbody>\n",
              "</table>\n",
              "</div>"
            ],
            "text/plain": [
              "  state  area_code phone_number international_plan voice_mail_plan  \\\n",
              "0    KS        415     382-4657                 no             yes   \n",
              "1    OH        415     371-7191                 no             yes   \n",
              "2    NJ        415     358-1921                 no              no   \n",
              "3    OH        408     375-9999                yes              no   \n",
              "4    OK        415     330-6626                yes              no   \n",
              "\n",
              "   number_vmail_messages  total_day_minutes  total_day_calls  \\\n",
              "0                     25              265.1              110   \n",
              "1                     26              161.6              123   \n",
              "2                      0              243.4              114   \n",
              "3                      0              299.4               71   \n",
              "4                      0              166.7              113   \n",
              "\n",
              "   total_day_charge  total_eve_minutes  total_eve_calls  total_eve_charge  \\\n",
              "0             45.07              197.4               99             16.78   \n",
              "1             27.47              195.5              103             16.62   \n",
              "2             41.38              121.2              110             10.30   \n",
              "3             50.90               61.9               88              5.26   \n",
              "4             28.34              148.3              122             12.61   \n",
              "\n",
              "   total_night_minutes  total_night_calls  total_night_charge  \\\n",
              "0                244.7                 91               11.01   \n",
              "1                254.4                103               11.45   \n",
              "2                162.6                104                7.32   \n",
              "3                196.9                 89                8.86   \n",
              "4                186.9                121                8.41   \n",
              "\n",
              "   total_intl_minutes  total_intl_calls  total_intl_charge  \\\n",
              "0                10.0                 3               2.70   \n",
              "1                13.7                 3               3.70   \n",
              "2                12.2                 5               3.29   \n",
              "3                 6.6                 7               1.78   \n",
              "4                10.1                 3               2.73   \n",
              "\n",
              "   number_customer_service_calls  Churn  \n",
              "0                              1  False  \n",
              "1                              1  False  \n",
              "2                              0  False  \n",
              "3                              2  False  \n",
              "4                              3  False  "
            ]
          },
          "metadata": {},
          "output_type": "display_data"
        },
        {
          "name": "stdout",
          "output_type": "stream",
          "text": [
            "\n",
            "Data types of each column:\n",
            "state                             object\n",
            "area_code                          int64\n",
            "phone_number                      object\n",
            "international_plan                object\n",
            "voice_mail_plan                   object\n",
            "number_vmail_messages              int64\n",
            "total_day_minutes                float64\n",
            "total_day_calls                    int64\n",
            "total_day_charge                 float64\n",
            "total_eve_minutes                float64\n",
            "total_eve_calls                    int64\n",
            "total_eve_charge                 float64\n",
            "total_night_minutes              float64\n",
            "total_night_calls                  int64\n",
            "total_night_charge               float64\n",
            "total_intl_minutes               float64\n",
            "total_intl_calls                   int64\n",
            "total_intl_charge                float64\n",
            "number_customer_service_calls      int64\n",
            "Churn                               bool\n",
            "dtype: object\n",
            "\n",
            "Descriptive statistics for numerical columns:\n"
          ]
        },
        {
          "data": {
            "text/html": [
              "<div>\n",
              "<style scoped>\n",
              "    .dataframe tbody tr th:only-of-type {\n",
              "        vertical-align: middle;\n",
              "    }\n",
              "\n",
              "    .dataframe tbody tr th {\n",
              "        vertical-align: top;\n",
              "    }\n",
              "\n",
              "    .dataframe thead th {\n",
              "        text-align: right;\n",
              "    }\n",
              "</style>\n",
              "<table border=\"1\" class=\"dataframe\">\n",
              "  <thead>\n",
              "    <tr style=\"text-align: right;\">\n",
              "      <th></th>\n",
              "      <th>area_code</th>\n",
              "      <th>number_vmail_messages</th>\n",
              "      <th>total_day_minutes</th>\n",
              "      <th>total_day_calls</th>\n",
              "      <th>total_day_charge</th>\n",
              "      <th>total_eve_minutes</th>\n",
              "      <th>total_eve_calls</th>\n",
              "      <th>total_eve_charge</th>\n",
              "      <th>total_night_minutes</th>\n",
              "      <th>total_night_calls</th>\n",
              "      <th>total_night_charge</th>\n",
              "      <th>total_intl_minutes</th>\n",
              "      <th>total_intl_calls</th>\n",
              "      <th>total_intl_charge</th>\n",
              "      <th>number_customer_service_calls</th>\n",
              "    </tr>\n",
              "  </thead>\n",
              "  <tbody>\n",
              "    <tr>\n",
              "      <th>count</th>\n",
              "      <td>5000.000000</td>\n",
              "      <td>5000.000000</td>\n",
              "      <td>5000.000000</td>\n",
              "      <td>5000.000000</td>\n",
              "      <td>5000.000000</td>\n",
              "      <td>5000.000000</td>\n",
              "      <td>5000.000000</td>\n",
              "      <td>5000.000000</td>\n",
              "      <td>5000.000000</td>\n",
              "      <td>5000.000000</td>\n",
              "      <td>5000.000000</td>\n",
              "      <td>5000.000000</td>\n",
              "      <td>5000.000000</td>\n",
              "      <td>5000.000000</td>\n",
              "      <td>5000.000000</td>\n",
              "    </tr>\n",
              "    <tr>\n",
              "      <th>mean</th>\n",
              "      <td>436.911400</td>\n",
              "      <td>7.755200</td>\n",
              "      <td>180.288900</td>\n",
              "      <td>119.834000</td>\n",
              "      <td>30.649668</td>\n",
              "      <td>200.636560</td>\n",
              "      <td>100.191000</td>\n",
              "      <td>17.054322</td>\n",
              "      <td>200.391620</td>\n",
              "      <td>99.919200</td>\n",
              "      <td>9.017732</td>\n",
              "      <td>10.261780</td>\n",
              "      <td>4.435200</td>\n",
              "      <td>2.771196</td>\n",
              "      <td>1.570400</td>\n",
              "    </tr>\n",
              "    <tr>\n",
              "      <th>std</th>\n",
              "      <td>42.209182</td>\n",
              "      <td>13.546393</td>\n",
              "      <td>53.894699</td>\n",
              "      <td>442.739543</td>\n",
              "      <td>9.162069</td>\n",
              "      <td>50.551309</td>\n",
              "      <td>19.826496</td>\n",
              "      <td>4.296843</td>\n",
              "      <td>50.527789</td>\n",
              "      <td>19.958686</td>\n",
              "      <td>2.273763</td>\n",
              "      <td>2.761396</td>\n",
              "      <td>2.456788</td>\n",
              "      <td>0.745514</td>\n",
              "      <td>1.306363</td>\n",
              "    </tr>\n",
              "    <tr>\n",
              "      <th>min</th>\n",
              "      <td>408.000000</td>\n",
              "      <td>0.000000</td>\n",
              "      <td>0.000000</td>\n",
              "      <td>0.000000</td>\n",
              "      <td>0.000000</td>\n",
              "      <td>0.000000</td>\n",
              "      <td>0.000000</td>\n",
              "      <td>0.000000</td>\n",
              "      <td>0.000000</td>\n",
              "      <td>0.000000</td>\n",
              "      <td>0.000000</td>\n",
              "      <td>0.000000</td>\n",
              "      <td>0.000000</td>\n",
              "      <td>0.000000</td>\n",
              "      <td>0.000000</td>\n",
              "    </tr>\n",
              "    <tr>\n",
              "      <th>25%</th>\n",
              "      <td>408.000000</td>\n",
              "      <td>0.000000</td>\n",
              "      <td>143.700000</td>\n",
              "      <td>87.000000</td>\n",
              "      <td>24.430000</td>\n",
              "      <td>166.375000</td>\n",
              "      <td>87.000000</td>\n",
              "      <td>14.140000</td>\n",
              "      <td>166.900000</td>\n",
              "      <td>87.000000</td>\n",
              "      <td>7.510000</td>\n",
              "      <td>8.500000</td>\n",
              "      <td>3.000000</td>\n",
              "      <td>2.300000</td>\n",
              "      <td>1.000000</td>\n",
              "    </tr>\n",
              "    <tr>\n",
              "      <th>50%</th>\n",
              "      <td>415.000000</td>\n",
              "      <td>0.000000</td>\n",
              "      <td>180.100000</td>\n",
              "      <td>100.000000</td>\n",
              "      <td>30.620000</td>\n",
              "      <td>201.000000</td>\n",
              "      <td>100.000000</td>\n",
              "      <td>17.090000</td>\n",
              "      <td>200.400000</td>\n",
              "      <td>100.000000</td>\n",
              "      <td>9.020000</td>\n",
              "      <td>10.300000</td>\n",
              "      <td>4.000000</td>\n",
              "      <td>2.780000</td>\n",
              "      <td>1.000000</td>\n",
              "    </tr>\n",
              "    <tr>\n",
              "      <th>75%</th>\n",
              "      <td>415.000000</td>\n",
              "      <td>17.000000</td>\n",
              "      <td>216.200000</td>\n",
              "      <td>113.000000</td>\n",
              "      <td>36.750000</td>\n",
              "      <td>234.100000</td>\n",
              "      <td>114.000000</td>\n",
              "      <td>19.900000</td>\n",
              "      <td>234.700000</td>\n",
              "      <td>113.000000</td>\n",
              "      <td>10.560000</td>\n",
              "      <td>12.000000</td>\n",
              "      <td>6.000000</td>\n",
              "      <td>3.240000</td>\n",
              "      <td>2.000000</td>\n",
              "    </tr>\n",
              "    <tr>\n",
              "      <th>max</th>\n",
              "      <td>510.000000</td>\n",
              "      <td>52.000000</td>\n",
              "      <td>351.500000</td>\n",
              "      <td>9999.000000</td>\n",
              "      <td>59.760000</td>\n",
              "      <td>363.700000</td>\n",
              "      <td>170.000000</td>\n",
              "      <td>30.910000</td>\n",
              "      <td>395.000000</td>\n",
              "      <td>175.000000</td>\n",
              "      <td>17.770000</td>\n",
              "      <td>20.000000</td>\n",
              "      <td>20.000000</td>\n",
              "      <td>5.400000</td>\n",
              "      <td>9.000000</td>\n",
              "    </tr>\n",
              "  </tbody>\n",
              "</table>\n",
              "</div>"
            ],
            "text/plain": [
              "         area_code  number_vmail_messages  total_day_minutes  total_day_calls  \\\n",
              "count  5000.000000            5000.000000        5000.000000      5000.000000   \n",
              "mean    436.911400               7.755200         180.288900       119.834000   \n",
              "std      42.209182              13.546393          53.894699       442.739543   \n",
              "min     408.000000               0.000000           0.000000         0.000000   \n",
              "25%     408.000000               0.000000         143.700000        87.000000   \n",
              "50%     415.000000               0.000000         180.100000       100.000000   \n",
              "75%     415.000000              17.000000         216.200000       113.000000   \n",
              "max     510.000000              52.000000         351.500000      9999.000000   \n",
              "\n",
              "       total_day_charge  total_eve_minutes  total_eve_calls  total_eve_charge  \\\n",
              "count       5000.000000        5000.000000      5000.000000       5000.000000   \n",
              "mean          30.649668         200.636560       100.191000         17.054322   \n",
              "std            9.162069          50.551309        19.826496          4.296843   \n",
              "min            0.000000           0.000000         0.000000          0.000000   \n",
              "25%           24.430000         166.375000        87.000000         14.140000   \n",
              "50%           30.620000         201.000000       100.000000         17.090000   \n",
              "75%           36.750000         234.100000       114.000000         19.900000   \n",
              "max           59.760000         363.700000       170.000000         30.910000   \n",
              "\n",
              "       total_night_minutes  total_night_calls  total_night_charge  \\\n",
              "count          5000.000000        5000.000000         5000.000000   \n",
              "mean            200.391620          99.919200            9.017732   \n",
              "std              50.527789          19.958686            2.273763   \n",
              "min               0.000000           0.000000            0.000000   \n",
              "25%             166.900000          87.000000            7.510000   \n",
              "50%             200.400000         100.000000            9.020000   \n",
              "75%             234.700000         113.000000           10.560000   \n",
              "max             395.000000         175.000000           17.770000   \n",
              "\n",
              "       total_intl_minutes  total_intl_calls  total_intl_charge  \\\n",
              "count         5000.000000       5000.000000        5000.000000   \n",
              "mean            10.261780          4.435200           2.771196   \n",
              "std              2.761396          2.456788           0.745514   \n",
              "min              0.000000          0.000000           0.000000   \n",
              "25%              8.500000          3.000000           2.300000   \n",
              "50%             10.300000          4.000000           2.780000   \n",
              "75%             12.000000          6.000000           3.240000   \n",
              "max             20.000000         20.000000           5.400000   \n",
              "\n",
              "       number_customer_service_calls  \n",
              "count                    5000.000000  \n",
              "mean                        1.570400  \n",
              "std                         1.306363  \n",
              "min                         0.000000  \n",
              "25%                         1.000000  \n",
              "50%                         1.000000  \n",
              "75%                         2.000000  \n",
              "max                         9.000000  "
            ]
          },
          "metadata": {},
          "output_type": "display_data"
        },
        {
          "name": "stdout",
          "output_type": "stream",
          "text": [
            "\n",
            "Value counts for the 'Churn' column:\n",
            "Churn\n",
            "False    4293\n",
            "True      707\n",
            "Name: count, dtype: int64\n"
          ]
        }
      ],
      "source": [
        "# Load the dataset\n",
        "df = pd.read_csv('churn_all.csv')\n",
        "\n",
        "# Display the first 5 rows\n",
        "print(\"First 5 rows of the DataFrame:\")\n",
        "display(df.head())\n",
        "\n",
        "# Print the data types\n",
        "print(\"\\nData types of each column:\")\n",
        "print(df.dtypes)\n",
        "\n",
        "# Descriptive statistics for numerical columns\n",
        "print(\"\\nDescriptive statistics for numerical columns:\")\n",
        "display(df.describe())\n",
        "\n",
        "# Target distribution\n",
        "print(\"\\nValue counts for the 'Churn' column:\")\n",
        "print(df['Churn'].value_counts())"
      ]
    },
    {
      "cell_type": "code",
      "execution_count": 162,
      "metadata": {
        "colab": {
          "base_uri": "https://localhost:8080/",
          "height": 514
        },
        "id": "8f2e918e",
        "outputId": "5481e6a2-087e-4747-f7ae-74760ff4784a"
      },
      "outputs": [
        {
          "data": {
            "image/png": "[encoded data removed]",
            "text/plain": [
              "<Figure size 600x400 with 1 Axes>"
            ]
          },
          "metadata": {},
          "output_type": "display_data"
        },
        {
          "name": "stdout",
          "output_type": "stream",
          "text": [
            "\n",
            "Churn Proportion:\n",
            "Churn\n",
            "False    0.8586\n",
            "True     0.1414\n",
            "Name: proportion, dtype: float64\n"
          ]
        }
      ],
      "source": [
        "# Churn distribution plot\n",
        "plt.figure(figsize=(6, 4))\n",
        "sns.countplot(x='Churn', data=df)\n",
        "plt.title('Churn Distribution')\n",
        "plt.xlabel('Churn')\n",
        "plt.ylabel('Count')\n",
        "plt.xticks(ticks=[0, 1], labels=['No', 'Yes'])\n",
        "plt.show()\n",
        "\n",
        "print(\"\\nChurn Proportion:\")\n",
        "print(df['Churn'].value_counts(normalize=True))"
      ]
    },
    {
      "cell_type": "markdown",
      "metadata": {
        "id": "6ba4ffa3"
      },
      "source": [
        "## Missing Values & Data Types\n",
        "Check completeness, standardise target, review categorical fields."
      ]
    },
    {
      "cell_type": "code",
      "execution_count": 163,
      "metadata": {
        "colab": {
          "base_uri": "https://localhost:8080/"
        },
        "id": "d96d7c29",
        "outputId": "62b1a6d6-7f1b-49f4-c36c-7f6a72a8dc21"
      },
      "outputs": [
        {
          "name": "stdout",
          "output_type": "stream",
          "text": [
            "Missing values per column:\n",
            "state                            0\n",
            "area_code                        0\n",
            "phone_number                     0\n",
            "international_plan               0\n",
            "voice_mail_plan                  0\n",
            "number_vmail_messages            0\n",
            "total_day_minutes                0\n",
            "total_day_calls                  0\n",
            "total_day_charge                 0\n",
            "total_eve_minutes                0\n",
            "total_eve_calls                  0\n",
            "total_eve_charge                 0\n",
            "total_night_minutes              0\n",
            "total_night_calls                0\n",
            "total_night_charge               0\n",
            "total_intl_minutes               0\n",
            "total_intl_calls                 0\n",
            "total_intl_charge                0\n",
            "number_customer_service_calls    0\n",
            "Churn                            0\n",
            "dtype: int64\n"
          ]
        }
      ],
      "source": [
        "# Check for missing values\n",
        "print(\"Missing values per column:\")\n",
        "print(df.isnull().sum())"
      ]
    },
    {
      "cell_type": "markdown",
      "metadata": {
        "id": "c63317d2"
      },
      "source": [
        "No missing values detected. Proceed with target conversion and categorical inspection."
      ]
    },
    {
      "cell_type": "code",
      "execution_count": 164,
      "metadata": {
        "colab": {
          "base_uri": "https://localhost:8080/"
        },
        "id": "7caea2bf",
        "outputId": "3efd23a3-461e-4c3a-e2a4-cc43682ee2bc"
      },
      "outputs": [
        {
          "name": "stdout",
          "output_type": "stream",
          "text": [
            "\n",
            "Data types before conversion:\n",
            "state                             object\n",
            "area_code                          int64\n",
            "phone_number                      object\n",
            "international_plan                object\n",
            "voice_mail_plan                   object\n",
            "number_vmail_messages              int64\n",
            "total_day_minutes                float64\n",
            "total_day_calls                    int64\n",
            "total_day_charge                 float64\n",
            "total_eve_minutes                float64\n",
            "total_eve_calls                    int64\n",
            "total_eve_charge                 float64\n",
            "total_night_minutes              float64\n",
            "total_night_calls                  int64\n",
            "total_night_charge               float64\n",
            "total_intl_minutes               float64\n",
            "total_intl_calls                   int64\n",
            "total_intl_charge                float64\n",
            "number_customer_service_calls      int64\n",
            "Churn                               bool\n",
            "dtype: object\n",
            "\n",
            "Data types after conversion:\n",
            "state                             object\n",
            "area_code                          int64\n",
            "phone_number                      object\n",
            "international_plan                object\n",
            "voice_mail_plan                   object\n",
            "number_vmail_messages              int64\n",
            "total_day_minutes                float64\n",
            "total_day_calls                    int64\n",
            "total_day_charge                 float64\n",
            "total_eve_minutes                float64\n",
            "total_eve_calls                    int64\n",
            "total_eve_charge                 float64\n",
            "total_night_minutes              float64\n",
            "total_night_calls                  int64\n",
            "total_night_charge               float64\n",
            "total_intl_minutes               float64\n",
            "total_intl_calls                   int64\n",
            "total_intl_charge                float64\n",
            "number_customer_service_calls      int64\n",
            "Churn                              int64\n",
            "dtype: object\n"
          ]
        }
      ],
      "source": [
        "# Review data types again\n",
        "print(\"\\nData types before conversion:\")\n",
        "print(df.dtypes)\n",
        "\n",
        "# Convert 'Churn' column from boolean to integer (0 and 1)\n",
        "df['Churn'] = df['Churn'].astype(int)\n",
        "\n",
        "# Check data types after conversion\n",
        "print(\"\\nData types after conversion:\")\n",
        "print(df.dtypes)"
      ]
    },
    {
      "cell_type": "markdown",
      "metadata": {
        "id": "d472ac9d"
      },
      "source": [
        "Target cast to integer. Inspecting object fields for consistency prior to encoding."
      ]
    },
    {
      "cell_type": "code",
      "execution_count": 165,
      "metadata": {
        "colab": {
          "base_uri": "https://localhost:8080/"
        },
        "id": "f04fc5a7",
        "outputId": "c525ba29-4cf6-4b86-e4a0-484b9bdc11dc"
      },
      "outputs": [
        {
          "name": "stdout",
          "output_type": "stream",
          "text": [
            "\n",
            "Unique values for 'state' column:\n",
            "['KS' 'OH' 'NJ' 'OK' 'AL' 'MA' 'MO' 'LA' 'WV' 'IN' 'RI' 'IA' 'MT' 'NY'\n",
            " 'ID' 'VT' 'VA' 'TX' 'FL' 'CO' 'AZ' 'SC' 'NE' 'WY' 'HI' 'IL' 'NH' 'GA'\n",
            " 'AK' 'MD' 'AR' 'WI' 'OR' 'MI' 'DE' 'UT' 'CA' 'MN' 'SD' 'NC' 'WA' 'NM'\n",
            " 'NV' 'DC' 'KY' 'ME' 'MS' 'TN' 'PA' 'CT' 'ND']\n",
            "\n",
            "Unique values for 'international_plan' column:\n",
            "[' no' ' yes']\n",
            "\n",
            "Unique values for 'voice_mail_plan' column:\n",
            "[' yes' ' no']\n"
          ]
        }
      ],
      "source": [
        "# Check unique values for object type columns\n",
        "print(\"\\nUnique values for 'state' column:\")\n",
        "print(df['state'].unique())\n",
        "\n",
        "print(\"\\nUnique values for 'international_plan' column:\")\n",
        "print(df['international_plan'].unique())\n",
        "\n",
        "print(\"\\nUnique values for 'voice_mail_plan' column:\")\n",
        "print(df['voice_mail_plan'].unique())"
      ]
    },
    {
      "cell_type": "markdown",
      "metadata": {
        "id": "8141709d"
      },
      "source": [
        "Trim whitespace in plan flags. Remove non-predictive phone number field."
      ]
    },
    {
      "cell_type": "code",
      "execution_count": 166,
      "metadata": {
        "colab": {
          "base_uri": "https://localhost:8080/"
        },
        "id": "9b212d9f",
        "outputId": "fd09e3a8-b482-4107-851f-3cecb45dbb3b"
      },
      "outputs": [
        {
          "name": "stdout",
          "output_type": "stream",
          "text": [
            "\n",
            "Unique values for 'international_plan' column after stripping spaces:\n",
            "['no' 'yes']\n",
            "\n",
            "Unique values for 'voice_mail_plan' column after stripping spaces:\n",
            "['yes' 'no']\n",
            "\n",
            "Columns after dropping 'phone_number':\n",
            "Index(['state', 'area_code', 'international_plan', 'voice_mail_plan',\n",
            "       'number_vmail_messages', 'total_day_minutes', 'total_day_calls',\n",
            "       'total_day_charge', 'total_eve_minutes', 'total_eve_calls',\n",
            "       'total_eve_charge', 'total_night_minutes', 'total_night_calls',\n",
            "       'total_night_charge', 'total_intl_minutes', 'total_intl_calls',\n",
            "       'total_intl_charge', 'number_customer_service_calls', 'Churn'],\n",
            "      dtype='object')\n"
          ]
        }
      ],
      "source": [
        "# Remove leading spaces from 'international_plan' and 'voice_mail_plan' columns\n",
        "df['international_plan'] = df['international_plan'].str.strip()\n",
        "df['voice_mail_plan'] = df['voice_mail_plan'].str.strip()\n",
        "\n",
        "# Verify the unique values after removing spaces\n",
        "print(\"\\nUnique values for 'international_plan' column after stripping spaces:\")\n",
        "print(df['international_plan'].unique())\n",
        "\n",
        "print(\"\\nUnique values for 'voice_mail_plan' column after stripping spaces:\")\n",
        "print(df['voice_mail_plan'].unique())\n",
        "\n",
        "# Drop the 'phone_number' column as it is not relevant for modeling\n",
        "df = df.drop('phone_number', axis=1)\n",
        "\n",
        "# Display the columns to confirm 'phone_number' is dropped\n",
        "print(\"\\nColumns after dropping 'phone_number':\")\n",
        "print(df.columns)"
      ]
    },
    {
      "cell_type": "markdown",
      "metadata": {
        "id": "6915d157"
      },
      "source": [
        "## Preprocessing\n",
        "Encode binary/categorical flags and scale numeric features. Retain state aside for potential later use."
      ]
    },
    {
      "cell_type": "markdown",
      "metadata": {
        "id": "ad925f2f"
      },
      "source": [
        "Select relevant numeric + simple categorical fields, transform, and consolidate engineered matrix."
      ]
    },
    {
      "cell_type": "code",
      "execution_count": 167,
      "metadata": {
        "colab": {
          "base_uri": "https://localhost:8080/",
          "height": 643
        },
        "id": "SQz9BmLzTmgV",
        "outputId": "cf850527-ebf5-40d6-911c-6aef29f2755e"
      },
      "outputs": [
        {
          "name": "stdout",
          "output_type": "stream",
          "text": [
            "First 5 rows (processed):\n"
          ]
        },
        {
          "data": {
            "text/html": [
              "<div>\n",
              "<style scoped>\n",
              "    .dataframe tbody tr th:only-of-type {\n",
              "        vertical-align: middle;\n",
              "    }\n",
              "\n",
              "    .dataframe tbody tr th {\n",
              "        vertical-align: top;\n",
              "    }\n",
              "\n",
              "    .dataframe thead th {\n",
              "        text-align: right;\n",
              "    }\n",
              "</style>\n",
              "<table border=\"1\" class=\"dataframe\">\n",
              "  <thead>\n",
              "    <tr style=\"text-align: right;\">\n",
              "      <th></th>\n",
              "      <th>area_code</th>\n",
              "      <th>number_vmail_messages</th>\n",
              "      <th>total_day_minutes</th>\n",
              "      <th>total_day_calls</th>\n",
              "      <th>total_day_charge</th>\n",
              "      <th>total_eve_minutes</th>\n",
              "      <th>total_eve_calls</th>\n",
              "      <th>total_eve_charge</th>\n",
              "      <th>total_night_minutes</th>\n",
              "      <th>total_night_calls</th>\n",
              "      <th>total_night_charge</th>\n",
              "      <th>total_intl_minutes</th>\n",
              "      <th>total_intl_calls</th>\n",
              "      <th>total_intl_charge</th>\n",
              "      <th>number_customer_service_calls</th>\n",
              "      <th>international_plan_no</th>\n",
              "      <th>international_plan_yes</th>\n",
              "      <th>voice_mail_plan_no</th>\n",
              "      <th>voice_mail_plan_yes</th>\n",
              "      <th>state</th>\n",
              "    </tr>\n",
              "  </thead>\n",
              "  <tbody>\n",
              "    <tr>\n",
              "      <th>0</th>\n",
              "      <td>-0.519166</td>\n",
              "      <td>1.273145</td>\n",
              "      <td>1.573802</td>\n",
              "      <td>-0.022214</td>\n",
              "      <td>1.574074</td>\n",
              "      <td>-0.064032</td>\n",
              "      <td>-0.060077</td>\n",
              "      <td>-0.063849</td>\n",
              "      <td>0.876999</td>\n",
              "      <td>-0.446928</td>\n",
              "      <td>0.876286</td>\n",
              "      <td>-0.094809</td>\n",
              "      <td>-0.584236</td>\n",
              "      <td>-0.095509</td>\n",
              "      <td>-0.436676</td>\n",
              "      <td>1.0</td>\n",
              "      <td>0.0</td>\n",
              "      <td>0.0</td>\n",
              "      <td>1.0</td>\n",
              "      <td>KS</td>\n",
              "    </tr>\n",
              "    <tr>\n",
              "      <th>1</th>\n",
              "      <td>-0.519166</td>\n",
              "      <td>1.346973</td>\n",
              "      <td>-0.346802</td>\n",
              "      <td>0.007152</td>\n",
              "      <td>-0.347082</td>\n",
              "      <td>-0.101621</td>\n",
              "      <td>0.141693</td>\n",
              "      <td>-0.101089</td>\n",
              "      <td>1.068992</td>\n",
              "      <td>0.154374</td>\n",
              "      <td>1.069818</td>\n",
              "      <td>1.245227</td>\n",
              "      <td>-0.584236</td>\n",
              "      <td>1.245982</td>\n",
              "      <td>-0.436676</td>\n",
              "      <td>1.0</td>\n",
              "      <td>0.0</td>\n",
              "      <td>0.0</td>\n",
              "      <td>1.0</td>\n",
              "      <td>OH</td>\n",
              "    </tr>\n",
              "    <tr>\n",
              "      <th>2</th>\n",
              "      <td>-0.519166</td>\n",
              "      <td>-0.572549</td>\n",
              "      <td>1.171125</td>\n",
              "      <td>-0.013178</td>\n",
              "      <td>1.171286</td>\n",
              "      <td>-1.571562</td>\n",
              "      <td>0.494791</td>\n",
              "      <td>-1.572084</td>\n",
              "      <td>-0.748012</td>\n",
              "      <td>0.204483</td>\n",
              "      <td>-0.746737</td>\n",
              "      <td>0.701969</td>\n",
              "      <td>0.229917</td>\n",
              "      <td>0.695971</td>\n",
              "      <td>-1.202236</td>\n",
              "      <td>1.0</td>\n",
              "      <td>0.0</td>\n",
              "      <td>1.0</td>\n",
              "      <td>0.0</td>\n",
              "      <td>NJ</td>\n",
              "    </tr>\n",
              "    <tr>\n",
              "      <th>3</th>\n",
              "      <td>-0.685024</td>\n",
              "      <td>-0.572549</td>\n",
              "      <td>2.210292</td>\n",
              "      <td>-0.110311</td>\n",
              "      <td>2.210457</td>\n",
              "      <td>-2.744745</td>\n",
              "      <td>-0.614946</td>\n",
              "      <td>-2.745155</td>\n",
              "      <td>-0.069110</td>\n",
              "      <td>-0.547145</td>\n",
              "      <td>-0.069377</td>\n",
              "      <td>-1.326194</td>\n",
              "      <td>1.044069</td>\n",
              "      <td>-1.329681</td>\n",
              "      <td>0.328885</td>\n",
              "      <td>0.0</td>\n",
              "      <td>1.0</td>\n",
              "      <td>1.0</td>\n",
              "      <td>0.0</td>\n",
              "      <td>OH</td>\n",
              "    </tr>\n",
              "    <tr>\n",
              "      <th>4</th>\n",
              "      <td>-0.519166</td>\n",
              "      <td>-0.572549</td>\n",
              "      <td>-0.252163</td>\n",
              "      <td>-0.015437</td>\n",
              "      <td>-0.252115</td>\n",
              "      <td>-1.035419</td>\n",
              "      <td>1.100103</td>\n",
              "      <td>-1.034426</td>\n",
              "      <td>-0.267041</td>\n",
              "      <td>1.056327</td>\n",
              "      <td>-0.267307</td>\n",
              "      <td>-0.058592</td>\n",
              "      <td>-0.584236</td>\n",
              "      <td>-0.055264</td>\n",
              "      <td>1.094445</td>\n",
              "      <td>0.0</td>\n",
              "      <td>1.0</td>\n",
              "      <td>1.0</td>\n",
              "      <td>0.0</td>\n",
              "      <td>OK</td>\n",
              "    </tr>\n",
              "  </tbody>\n",
              "</table>\n",
              "</div>"
            ],
            "text/plain": [
              "   area_code  number_vmail_messages  total_day_minutes  total_day_calls  \\\n",
              "0  -0.519166               1.273145           1.573802        -0.022214   \n",
              "1  -0.519166               1.346973          -0.346802         0.007152   \n",
              "2  -0.519166              -0.572549           1.171125        -0.013178   \n",
              "3  -0.685024              -0.572549           2.210292        -0.110311   \n",
              "4  -0.519166              -0.572549          -0.252163        -0.015437   \n",
              "\n",
              "   total_day_charge  total_eve_minutes  total_eve_calls  total_eve_charge  \\\n",
              "0          1.574074          -0.064032        -0.060077         -0.063849   \n",
              "1         -0.347082          -0.101621         0.141693         -0.101089   \n",
              "2          1.171286          -1.571562         0.494791         -1.572084   \n",
              "3          2.210457          -2.744745        -0.614946         -2.745155   \n",
              "4         -0.252115          -1.035419         1.100103         -1.034426   \n",
              "\n",
              "   total_night_minutes  total_night_calls  total_night_charge  \\\n",
              "0             0.876999          -0.446928            0.876286   \n",
              "1             1.068992           0.154374            1.069818   \n",
              "2            -0.748012           0.204483           -0.746737   \n",
              "3            -0.069110          -0.547145           -0.069377   \n",
              "4            -0.267041           1.056327           -0.267307   \n",
              "\n",
              "   total_intl_minutes  total_intl_calls  total_intl_charge  \\\n",
              "0           -0.094809         -0.584236          -0.095509   \n",
              "1            1.245227         -0.584236           1.245982   \n",
              "2            0.701969          0.229917           0.695971   \n",
              "3           -1.326194          1.044069          -1.329681   \n",
              "4           -0.058592         -0.584236          -0.055264   \n",
              "\n",
              "   number_customer_service_calls  international_plan_no  \\\n",
              "0                      -0.436676                    1.0   \n",
              "1                      -0.436676                    1.0   \n",
              "2                      -1.202236                    1.0   \n",
              "3                       0.328885                    0.0   \n",
              "4                       1.094445                    0.0   \n",
              "\n",
              "   international_plan_yes  voice_mail_plan_no  voice_mail_plan_yes state  \n",
              "0                     0.0                 0.0                  1.0    KS  \n",
              "1                     0.0                 0.0                  1.0    OH  \n",
              "2                     0.0                 1.0                  0.0    NJ  \n",
              "3                     1.0                 1.0                  0.0    OH  \n",
              "4                     1.0                 1.0                  0.0    OK  "
            ]
          },
          "metadata": {},
          "output_type": "display_data"
        },
        {
          "name": "stdout",
          "output_type": "stream",
          "text": [
            "\n",
            "Dtypes (processed):\n",
            "area_code                        float64\n",
            "number_vmail_messages            float64\n",
            "total_day_minutes                float64\n",
            "total_day_calls                  float64\n",
            "total_day_charge                 float64\n",
            "total_eve_minutes                float64\n",
            "total_eve_calls                  float64\n",
            "total_eve_charge                 float64\n",
            "total_night_minutes              float64\n",
            "total_night_calls                float64\n",
            "total_night_charge               float64\n",
            "total_intl_minutes               float64\n",
            "total_intl_calls                 float64\n",
            "total_intl_charge                float64\n",
            "number_customer_service_calls    float64\n",
            "international_plan_no            float64\n",
            "international_plan_yes           float64\n",
            "voice_mail_plan_no               float64\n",
            "voice_mail_plan_yes              float64\n",
            "state                             object\n",
            "dtype: object\n"
          ]
        }
      ],
      "source": [
        "# Identify categorical / numerical sets (exclude target)\n",
        "categorical_features = df.select_dtypes(include=['object']).columns.tolist()\n",
        "if 'state' in categorical_features:\n",
        "    categorical_features.remove('state')\n",
        "\n",
        "numerical_features = df.select_dtypes(include=['int64', 'float64']).columns.tolist()\n",
        "if 'Churn' in numerical_features:\n",
        "    numerical_features.remove('Churn')\n",
        "\n",
        "# Transformers\n",
        "numerical_transformer = StandardScaler()\n",
        "categorical_transformer = OneHotEncoder(handle_unknown='ignore')\n",
        "\n",
        "# Column transformer (drops unspecified columns)\n",
        "preprocessor = ColumnTransformer([\n",
        "    ('num', numerical_transformer, numerical_features),\n",
        "    ('cat', categorical_transformer, categorical_features)\n",
        "])\n",
        "\n",
        "# Apply transforms\n",
        "features_to_transform = df[numerical_features + categorical_features]\n",
        "preprocessed_features_array = preprocessor.fit_transform(features_to_transform)\n",
        "\n",
        "# Feature names\n",
        "onehot_feature_names = preprocessor.named_transformers_['cat'].get_feature_names_out(categorical_features)\n",
        "processed_feature_names = list(numerical_features) + list(onehot_feature_names)\n",
        "processed_features_df = pd.DataFrame(preprocessed_features_array, columns=processed_feature_names)\n",
        "\n",
        "# Keep state + target separate\n",
        "state_df = df[['state']].reset_index(drop=True)\n",
        "churn_df = df[['Churn']].reset_index(drop=True)\n",
        "\n",
        "preprocessed_df = pd.concat([processed_features_df, state_df], axis=1)\n",
        "\n",
        "print(\"First 5 rows (processed):\")\n",
        "display(preprocessed_df.head())\n",
        "print(\"\\nDtypes (processed):\")\n",
        "print(preprocessed_df.dtypes)"
      ]
    },
    {
      "cell_type": "markdown",
      "metadata": {
        "id": "0145cd72"
      },
      "source": [
        "## Train/Test Split\n",
        "Stratified 80/20 to preserve class balance."
      ]
    },
    {
      "cell_type": "markdown",
      "metadata": {
        "id": "c9993827"
      },
      "source": [
        "Stratification mitigates target distribution shift."
      ]
    },
    {
      "cell_type": "code",
      "execution_count": 168,
      "metadata": {
        "colab": {
          "base_uri": "https://localhost:8080/"
        },
        "id": "59cc1a3e",
        "outputId": "dd1e24e9-096d-4623-aa6a-afd078f632a3"
      },
      "outputs": [
        {
          "name": "stdout",
          "output_type": "stream",
          "text": [
            "Shape of X_train: (4000, 19)\n",
            "Shape of X_test: (1000, 19)\n",
            "Shape of y_train: (4000, 1)\n",
            "Shape of y_test: (1000, 1)\n"
          ]
        }
      ],
      "source": [
        "from sklearn.model_selection import train_test_split\n",
        "\n",
        "# Define features (X) and target variable (y)\n",
        "# Exclude the 'state' column from the features (X) for initial modeling\n",
        "X = processed_features_df\n",
        "y = churn_df\n",
        "\n",
        "# Split the data into training and testing sets (e.g., 80% train, 20% test)\n",
        "X_train, X_test, y_train, y_test = train_test_split(X, y, test_size=0.2, random_state=42, stratify=y)\n",
        "\n",
        "# Print the shapes of the resulting sets\n",
        "print(\"Shape of X_train:\", X_train.shape)\n",
        "print(\"Shape of X_test:\", X_test.shape)\n",
        "print(\"Shape of y_train:\", y_train.shape)\n",
        "print(\"Shape of y_test:\", y_test.shape)"
      ]
    },
    {
      "cell_type": "markdown",
      "metadata": {
        "id": "e4e8280a"
      },
      "source": [
        "## Baseline Models\n",
        "Logistic Regression, Random Forest, XGBoost."
      ]
    },
    {
      "cell_type": "markdown",
      "metadata": {
        "id": "9c8e2645"
      },
      "source": [
        "Instantiate baseline estimators with default (or minimal) configuration."
      ]
    },
    {
      "cell_type": "code",
      "execution_count": 169,
      "metadata": {
        "colab": {
          "base_uri": "https://localhost:8080/"
        },
        "id": "16307afb",
        "outputId": "8663cf14-c9c7-4b48-8344-98384a2c55a0"
      },
      "outputs": [
        {
          "name": "stdout",
          "output_type": "stream",
          "text": [
            "Baseline models ready.\n"
          ]
        }
      ],
      "source": [
        "# Instantiate baseline models\n",
        "lr_model = LogisticRegression(random_state=42)\n",
        "rf_model = RandomForestClassifier(random_state=42)\n",
        "xgb_model = xgb.XGBClassifier(random_state=42, eval_metric='logloss')\n",
        "print(\"Baseline models ready.\")"
      ]
    },
    {
      "cell_type": "markdown",
      "metadata": {
        "id": "f41b7e4b"
      },
      "source": [
        "Fit each model on the transformed training set."
      ]
    },
    {
      "cell_type": "code",
      "execution_count": 170,
      "metadata": {
        "colab": {
          "base_uri": "https://localhost:8080/"
        },
        "id": "7d9efa6f",
        "outputId": "8ae85374-3c6c-45a2-ca27-0af3486a2d8f"
      },
      "outputs": [
        {
          "name": "stdout",
          "output_type": "stream",
          "text": [
            "Training complete (LR / RF / XGB).\n"
          ]
        }
      ],
      "source": [
        "# Fit baseline models\n",
        "lr_model.fit(X_train, y_train.values.ravel())\n",
        "rf_model.fit(X_train, y_train.values.ravel())\n",
        "xgb_model.fit(X_train, y_train.values.ravel())\n",
        "print(\"Training complete (LR / RF / XGB).\")"
      ]
    },
    {
      "cell_type": "markdown",
      "metadata": {
        "id": "bd08c58f"
      },
      "source": [
        "## Evaluation\n",
        "Accuracy, precision, recall, F1, ROC-AUC, plus ROC curves."
      ]
    },
    {
      "cell_type": "markdown",
      "metadata": {
        "id": "727e9e8b"
      },
      "source": [
        "Import metric utilities."
      ]
    },
    {
      "cell_type": "code",
      "execution_count": 171,
      "metadata": {
        "id": "957dbec0"
      },
      "outputs": [],
      "source": [
        "from sklearn.metrics import accuracy_score, precision_score, recall_score, f1_score, roc_auc_score"
      ]
    },
    {
      "cell_type": "markdown",
      "metadata": {
        "id": "ff325f52"
      },
      "source": [
        "Evaluate models and overlay ROC curves for comparison."
      ]
    },
    {
      "cell_type": "code",
      "execution_count": 172,
      "metadata": {
        "id": "88e65307"
      },
      "outputs": [],
      "source": [
        "def evaluate_and_plot_model(model, X_test, y_test, model_name):\n",
        "    \"\"\"Print core metrics and add ROC curve for a classifier.\"\"\"\n",
        "    y_pred = model.predict(X_test)\n",
        "    y_prob = model.predict_proba(X_test)[:, 1]\n",
        "\n",
        "    accuracy = accuracy_score(y_test, y_pred)\n",
        "    precision = precision_score(y_test, y_pred)\n",
        "    recall = recall_score(y_test, y_pred)\n",
        "    f1 = f1_score(y_test, y_pred)\n",
        "    roc_auc = roc_auc_score(y_test, y_prob)\n",
        "\n",
        "    print(f\"--- {model_name} ---\")\n",
        "    print(f\"Accuracy : {accuracy:.4f}\")\n",
        "    print(f\"Precision: {precision:.4f}\")\n",
        "    print(f\"Recall   : {recall:.4f}\")\n",
        "    print(f\"F1-score : {f1:.4f}\")\n",
        "    print(f\"ROC-AUC  : {roc_auc:.4f}\")\n",
        "\n",
        "    fpr, tpr, _ = roc_curve(y_test, y_prob)\n",
        "    plt.plot(fpr, tpr, label=f'{model_name} (AUC={roc_auc:.2f})')"
      ]
    },
    {
      "cell_type": "code",
      "execution_count": 173,
      "metadata": {
        "colab": {
          "base_uri": "https://localhost:8080/",
          "height": 1000
        },
        "id": "5262d0e6",
        "outputId": "1b8089e8-40ca-4159-9b1d-cf680a0f3695"
      },
      "outputs": [
        {
          "name": "stdout",
          "output_type": "stream",
          "text": [
            "--- LogReg ---\n",
            "Accuracy : 0.8710\n",
            "Precision: 0.6304\n",
            "Recall   : 0.2057\n",
            "F1-score : 0.3102\n",
            "ROC-AUC  : 0.8257\n",
            "--- RandomForest ---\n",
            "Accuracy : 0.9560\n",
            "Precision: 0.9217\n",
            "Recall   : 0.7518\n",
            "F1-score : 0.8281\n",
            "ROC-AUC  : 0.9049\n",
            "--- XGBoost ---\n",
            "Accuracy : 0.9590\n",
            "Precision: 0.9167\n",
            "Recall   : 0.7801\n",
            "F1-score : 0.8429\n",
            "ROC-AUC  : 0.9215\n",
            "--- XGBoost ---\n",
            "Accuracy : 0.9590\n",
            "Precision: 0.9167\n",
            "Recall   : 0.7801\n",
            "F1-score : 0.8429\n",
            "ROC-AUC  : 0.9215\n"
          ]
        },
        {
          "data": {
            "image/png": "[encoded data removed]",
            "text/plain": [
              "<Figure size 1000x800 with 1 Axes>"
            ]
          },
          "metadata": {},
          "output_type": "display_data"
        }
      ],
      "source": [
        "plt.figure(figsize=(10, 8))\n",
        "plt.plot([0, 1], [0, 1], 'k--', label='Random')\n",
        "plt.xlabel('False Positive Rate')\n",
        "plt.ylabel('True Positive Rate')\n",
        "plt.title('ROC Curves (Baselines)')\n",
        "plt.grid(True)\n",
        "\n",
        "evaluate_and_plot_model(lr_model, X_test, y_test, \"LogReg\")\n",
        "evaluate_and_plot_model(rf_model, X_test, y_test, \"RandomForest\")\n",
        "evaluate_and_plot_model(xgb_model, X_test, y_test, \"XGBoost\")\n",
        "\n",
        "plt.legend()\n",
        "plt.show()"
      ]
    },
    {
      "cell_type": "markdown",
      "metadata": {},
      "source": [
        "## Compare initial models and select best\n",
        "\n",
        "Compare the evaluation results of the initial models and select the best-performing one (XGBoost) for tuning."
      ]
    },
    {
      "cell_type": "markdown",
      "metadata": {},
      "source": [
        "**Reasoning**:\n",
        "Based on the evaluation metrics printed in the previous cell, compare the performance of Logistic Regression, Random Forest, and XGBoost models, specifically focusing on Precision, Recall, F1-score, and ROC-AUC, which are more informative for imbalanced datasets. Identify the best-performing model based on these metrics.\n",
        "\n"
      ]
    },
    {
      "cell_type": "code",
      "execution_count": 174,
      "metadata": {},
      "outputs": [
        {
          "name": "stdout",
          "output_type": "stream",
          "text": [
            "Based on the evaluation metrics, the XGBoost model is selected as the best-performing model for predicting customer churn.\n",
            "Key metrics supporting this decision are:\n",
            "- Recall: 0.7801 (highest among the models)\n",
            "- F1-score: 0.8429 (highest among the models)\n",
            "- ROC-AUC: 0.9215 (highest among the models)\n"
          ]
        }
      ],
      "source": [
        "# Comparing the models:\n",
        "\n",
        "best_model_name = \"XGBoost\"\n",
        "print(f\"Based on the evaluation metrics, the {best_model_name} model is selected as the best-performing model for predicting customer churn.\")\n",
        "print(\"Key metrics supporting this decision are:\")\n",
        "\n",
        "# Correct recall calculation (model.score gives accuracy, not recall)\n",
        "y_pred_xgb = xgb_model.predict(X_test)\n",
        "recall_xgb = recall_score(y_test, y_pred_xgb)\n",
        "\n",
        "print(f\"- Recall: {recall_xgb:.4f} (highest among the models)\")  # Adjust comment if needed after verifying other recalls\n",
        "print(f\"- F1-score: {f1_score(y_test, y_pred_xgb):.4f} (highest among the models)\")\n",
        "print(f\"- ROC-AUC: {roc_auc_score(y_test, xgb_model.predict_proba(X_test)[:, 1]):.4f} (highest among the models)\")"
      ]
    },
    {
      "cell_type": "markdown",
      "metadata": {
        "id": "b9740163"
      },
      "source": [
        "## Initial Model Interpretation\n",
        "Preliminary feature importance from XGBoost."
      ]
    },
    {
      "cell_type": "markdown",
      "metadata": {
        "id": "769ac59e"
      },
      "source": [
        "Extract and rank feature importances (directionality not shown here)."
      ]
    },
    {
      "cell_type": "code",
      "execution_count": 175,
      "metadata": {
        "colab": {
          "base_uri": "https://localhost:8080/",
          "height": 982
        },
        "id": "ce4d4e04",
        "outputId": "14d2326d-d769-4911-d05c-d1bf899cf07f"
      },
      "outputs": [
        {
          "name": "stdout",
          "output_type": "stream",
          "text": [
            "Top 15 Features (Initial XGB):\n",
            "international_plan_no            0.234956\n",
            "number_customer_service_calls    0.165445\n",
            "number_vmail_messages            0.109579\n",
            "total_intl_calls                 0.094502\n",
            "total_day_minutes                0.092280\n",
            "total_intl_minutes               0.055243\n",
            "total_eve_minutes                0.053742\n",
            "total_eve_charge                 0.037055\n",
            "total_night_minutes              0.034139\n",
            "total_night_charge               0.029172\n",
            "total_day_calls                  0.023058\n",
            "total_night_calls                0.019188\n",
            "total_eve_calls                  0.018717\n",
            "area_code                        0.016658\n",
            "voice_mail_plan_no               0.016265\n",
            "dtype: float32\n"
          ]
        },
        {
          "data": {
            "image/png": "[encoded data removed]",
            "text/plain": [
              "<Figure size 1000x600 with 1 Axes>"
            ]
          },
          "metadata": {},
          "output_type": "display_data"
        }
      ],
      "source": [
        "feature_importances = xgb_model.feature_importances_\n",
        "importance_series = pd.Series(feature_importances, index=X_train.columns).sort_values(ascending=False)\n",
        "print(\"Top 15 Features (Initial XGB):\")\n",
        "print(importance_series.head(15))\n",
        "\n",
        "plt.figure(figsize=(10, 6))\n",
        "sns.barplot(x=importance_series.head(15).values, y=importance_series.head(15).index)\n",
        "plt.title('XGBoost Feature Importance (Initial)')\n",
        "plt.xlabel('Importance')\n",
        "plt.ylabel('Feature')\n",
        "plt.tight_layout()\n",
        "plt.show()"
      ]
    },
    {
      "cell_type": "code",
      "execution_count": 176,
      "metadata": {
        "colab": {
          "base_uri": "https://localhost:8080/"
        },
        "id": "1547d9ce",
        "outputId": "121c7b69-6a4f-4f7e-a157-6d2d7184cc82"
      },
      "outputs": [
        {
          "name": "stdout",
          "output_type": "stream",
          "text": [
            "XGBoost Model Hyperparameters:\n",
            "objective: binary:logistic\n",
            "base_score: None\n",
            "booster: None\n",
            "callbacks: None\n",
            "colsample_bylevel: None\n",
            "colsample_bynode: None\n",
            "colsample_bytree: None\n",
            "device: None\n",
            "early_stopping_rounds: None\n",
            "enable_categorical: False\n",
            "eval_metric: logloss\n",
            "feature_types: None\n",
            "feature_weights: None\n",
            "gamma: None\n",
            "grow_policy: None\n",
            "importance_type: None\n",
            "interaction_constraints: None\n",
            "learning_rate: None\n",
            "max_bin: None\n",
            "max_cat_threshold: None\n",
            "max_cat_to_onehot: None\n",
            "max_delta_step: None\n",
            "max_depth: None\n",
            "max_leaves: None\n",
            "min_child_weight: None\n",
            "missing: nan\n",
            "monotone_constraints: None\n",
            "multi_strategy: None\n",
            "n_estimators: None\n",
            "n_jobs: None\n",
            "num_parallel_tree: None\n",
            "random_state: 42\n",
            "reg_alpha: None\n",
            "reg_lambda: None\n",
            "sampling_method: None\n",
            "scale_pos_weight: None\n",
            "subsample: None\n",
            "tree_method: None\n",
            "validate_parameters: None\n",
            "verbosity: None\n"
          ]
        }
      ],
      "source": [
        "# Get the hyperparameters of the trained XGBoost model\n",
        "xgb_params = xgb_model.get_params()\n",
        "\n",
        "print(\"XGBoost Model Hyperparameters:\")\n",
        "for param, value in xgb_params.items():\n",
        "    print(f\"{param}: {value}\")"
      ]
    },
    {
      "cell_type": "markdown",
      "metadata": {
        "id": "f5c3eb5a"
      },
      "source": [
        "## Select Baseline to Tune\n",
        "XGBoost leads on key metrics; proceed to refinement."
      ]
    },
    {
      "cell_type": "markdown",
      "metadata": {
        "id": "4949ae90"
      },
      "source": [
        "Define a concise search space (balanced breadth vs compute)."
      ]
    },
    {
      "cell_type": "code",
      "execution_count": 177,
      "metadata": {
        "colab": {
          "base_uri": "https://localhost:8080/"
        },
        "id": "7ab22361",
        "outputId": "0c371c32-df88-4672-ffb8-1eca0b851c15"
      },
      "outputs": [
        {
          "name": "stdout",
          "output_type": "stream",
          "text": [
            "Number of parameter combinations to explore: 108\n"
          ]
        }
      ],
      "source": [
        "from sklearn.model_selection import ParameterGrid\n",
        "\n",
        "# Define the parameter grid for XGBoost\n",
        "param_grid = {\n",
        "    'n_estimators': [100, 200, 300],\n",
        "    'learning_rate': [0.01, 0.1, 0.2],\n",
        "    'max_depth': [3, 4, 5],\n",
        "    'subsample': [0.8, 1.0],\n",
        "    'colsample_bytree': [0.8, 1.0]\n",
        "}\n",
        "\n",
        "# Create a ParameterGrid object\n",
        "grid = ParameterGrid(param_grid)\n",
        "\n",
        "# Print the number of parameter combinations\n",
        "print(f\"Number of parameter combinations to explore: {len(list(grid))}\")"
      ]
    },
    {
      "cell_type": "markdown",
      "metadata": {
        "id": "851f9d78"
      },
      "source": [
        "## Hyperparameter Search\n",
        "GridSearchCV using ROC-AUC scoring."
      ]
    },
    {
      "cell_type": "markdown",
      "metadata": {
        "id": "0d135545"
      },
      "source": [
        "Capture best parameter set and validation performance."
      ]
    },
    {
      "cell_type": "code",
      "execution_count": 178,
      "metadata": {
        "colab": {
          "base_uri": "https://localhost:8080/"
        },
        "id": "1c4cc5af",
        "outputId": "102097a5-53e6-4fdc-a390-ccadca39a430"
      },
      "outputs": [
        {
          "name": "stdout",
          "output_type": "stream",
          "text": [
            "Best hyperparameters found by GridSearchCV:\n",
            "{'colsample_bytree': 0.8, 'learning_rate': 0.1, 'max_depth': 4, 'n_estimators': 200, 'subsample': 1.0}\n",
            "\n",
            "Best cross-validation ROC-AUC score:\n",
            "0.9289327011198237\n"
          ]
        }
      ],
      "source": [
        "from sklearn.model_selection import GridSearchCV\n",
        "\n",
        "# Instantiate GridSearchCV\n",
        "# Use 'roc_auc' as the scoring metric due to the imbalanced nature of the target variable\n",
        "grid_search = GridSearchCV(estimator=xgb_model, param_grid=param_grid, cv=3, scoring='roc_auc', n_jobs=-1)\n",
        "\n",
        "# Fit GridSearchCV to the training data\n",
        "grid_search.fit(X_train, y_train.values.ravel())\n",
        "\n",
        "# Print the best hyperparameters and the best score\n",
        "print(\"Best hyperparameters found by GridSearchCV:\")\n",
        "print(grid_search.best_params_)\n",
        "\n",
        "print(\"\\nBest cross-validation ROC-AUC score:\")\n",
        "print(grid_search.best_score_)"
      ]
    },
    {
      "cell_type": "markdown",
      "metadata": {
        "id": "1df957eb"
      },
      "source": [
        "## Refit Best Model\n",
        "Train tuned XGBoost on the full training partition."
      ]
    },
    {
      "cell_type": "markdown",
      "metadata": {
        "id": "b96e0c44"
      },
      "source": [
        "Instantiate tuned estimator with selected hyperparameters."
      ]
    },
    {
      "cell_type": "code",
      "execution_count": 179,
      "metadata": {
        "colab": {
          "base_uri": "https://localhost:8080/"
        },
        "id": "22b796e3",
        "outputId": "cac82539-2627-4df1-ce69-d5829e1764ee"
      },
      "outputs": [
        {
          "name": "stdout",
          "output_type": "stream",
          "text": [
            "Tuned XGBoost model trained successfully with the best hyperparameters.\n"
          ]
        }
      ],
      "source": [
        "# Get the best hyperparameters from the grid search results\n",
        "best_params = grid_search.best_params_\n",
        "\n",
        "# Instantiate a new XGBoost classifier with the best hyperparameters\n",
        "tuned_xgb_model = xgb.XGBClassifier(random_state=42, eval_metric='logloss', **best_params)\n",
        "\n",
        "# Train the tuned XGBoost model on the entire training data\n",
        "tuned_xgb_model.fit(X_train, y_train.values.ravel())\n",
        "\n",
        "print(\"Tuned XGBoost model trained successfully with the best hyperparameters.\")"
      ]
    },
    {
      "cell_type": "markdown",
      "metadata": {
        "id": "f2341a79"
      },
      "source": [
        "## Tuned Model Evaluation\n",
        "Recompute metrics for direct comparison."
      ]
    },
    {
      "cell_type": "markdown",
      "metadata": {
        "id": "9497e584"
      },
      "source": [
        "Metrics plus optional ROC overlay below."
      ]
    },
    {
      "cell_type": "code",
      "execution_count": 180,
      "metadata": {
        "colab": {
          "base_uri": "https://localhost:8080/",
          "height": 552
        },
        "id": "59596128",
        "outputId": "fa5216ea-5c61-4986-ce0f-2525f9642486"
      },
      "outputs": [
        {
          "name": "stdout",
          "output_type": "stream",
          "text": [
            "--- Tuned XGBoost Model Evaluation ---\n",
            "Accuracy: 0.9610\n",
            "Precision: 0.9397\n",
            "Recall: 0.7730\n",
            "F1-score: 0.8482\n",
            "ROC-AUC: 0.9281\n",
            "----------------------------------------\n"
          ]
        },
        {
          "data": {
            "image/png": "[encoded data removed]",
            "text/plain": [
              "<Figure size 640x480 with 1 Axes>"
            ]
          },
          "metadata": {},
          "output_type": "display_data"
        }
      ],
      "source": [
        "# Evaluate the tuned XGBoost model on the test set\n",
        "print(\"--- Tuned XGBoost Model Evaluation ---\")\n",
        "\n",
        "# Predict on the test data\n",
        "y_pred_tuned = tuned_xgb_model.predict(X_test)\n",
        "y_prob_tuned = tuned_xgb_model.predict_proba(X_test)[:, 1]\n",
        "\n",
        "# Calculate evaluation metrics\n",
        "accuracy_tuned = accuracy_score(y_test, y_pred_tuned)\n",
        "precision_tuned = precision_score(y_test, y_pred_tuned)\n",
        "recall_tuned = recall_score(y_test, y_pred_tuned)\n",
        "f1_tuned = f1_score(y_test, y_pred_tuned)\n",
        "roc_auc_tuned = roc_auc_score(y_test, y_prob_tuned)\n",
        "\n",
        "# Print the calculated evaluation metrics\n",
        "print(f\"Accuracy: {accuracy_tuned:.4f}\")\n",
        "print(f\"Precision: {precision_tuned:.4f}\")\n",
        "print(f\"Recall: {recall_tuned:.4f}\")\n",
        "print(f\"F1-score: {f1_tuned:.4f}\")\n",
        "print(f\"ROC-AUC: {roc_auc_tuned:.4f}\")\n",
        "print(\"-\" * 40)\n",
        "\n",
        "# Optional: Plot ROC curve for the tuned model (add to the previous plot)\n",
        "fpr_tuned, tpr_tuned, thresholds_tuned = roc_curve(y_test, y_prob_tuned)\n",
        "plt.plot(fpr_tuned, tpr_tuned, label=f'Tuned XGBoost (AUC = {roc_auc_tuned:.2f})')\n",
        "plt.legend()\n",
        "plt.show()"
      ]
    },
    {
      "cell_type": "markdown",
      "metadata": {
        "id": "54beb416"
      },
      "source": [
        "## Tuned vs Untuned Comparison\n",
        "Quantify performance deltas."
      ]
    },
    {
      "cell_type": "markdown",
      "metadata": {
        "id": "0a81fef2"
      },
      "source": [
        "Tabular summary and ROC overlay to visualise trade-offs."
      ]
    },
    {
      "cell_type": "code",
      "execution_count": 181,
      "metadata": {
        "colab": {
          "base_uri": "https://localhost:8080/",
          "height": 1000
        },
        "id": "c3c3781c",
        "outputId": "43645136-ba18-4202-ca67-582846e1db9e"
      },
      "outputs": [
        {
          "name": "stdout",
          "output_type": "stream",
          "text": [
            "--- Comparison of Untuned vs. Tuned XGBoost Model ---\n",
            "Metric          | Untuned XGBoost      | Tuned XGBoost        | Improvement    \n",
            "--------------------------------------------------------------------------------\n",
            "Accuracy        | 0.9590               | 0.9610               | +0.0020        \n",
            "Precision       | 0.9167               | 0.9397               | +0.0230        \n",
            "Recall          | 0.7801               | 0.7730               | -0.0071        \n",
            "F1-score        | 0.8429               | 0.8482               | +0.0053        \n",
            "ROC-AUC         | 0.9215               | 0.9281               | +0.0066        \n",
            "--------------------------------------------------------------------------------\n",
            "\n",
            "Discussion:\n",
            "Hyperparameter tuning resulted in slight improvements in most evaluation metrics for the XGBoost model.\n",
            "- Accuracy increased by 0.0020.\n",
            "- Precision saw a notable increase of 0.0230.\n",
            "- Recall slightly decreased by -0.0071.\n",
            "- F1-score showed a small improvement of 0.0053.\n",
            "- ROC-AUC, a robust metric for imbalanced data, also improved by 0.0066.\n",
            "Overall, the tuned model demonstrates slightly better performance, particularly in Precision and ROC-AUC, indicating a better trade-off between correctly identifying positive cases and minimizing false positives.\n"
          ]
        },
        {
          "data": {
            "image/png": "[encoded data removed]",
            "text/plain": [
              "<Figure size 1000x800 with 1 Axes>"
            ]
          },
          "metadata": {},
          "output_type": "display_data"
        }
      ],
      "source": [
        "# Compare the evaluation metrics of the untuned and tuned XGBoost models\n",
        "print(\"--- Comparison of Untuned vs. Tuned XGBoost Model ---\")\n",
        "print(f\"{'Metric':<15} | {'Untuned XGBoost':<20} | {'Tuned XGBoost':<20} | {'Improvement':<15}\")\n",
        "print(\"-\" * 80)\n",
        "print(f\"{'Accuracy':<15} | {0.9590:<20.4f} | {accuracy_tuned:<20.4f} | {accuracy_tuned - 0.9590:<+15.4f}\")\n",
        "print(f\"{'Precision':<15} | {0.9167:<20.4f} | {precision_tuned:<20.4f} | {precision_tuned - 0.9167:<+15.4f}\")\n",
        "print(f\"{'Recall':<15} | {0.7801:<20.4f} | {recall_tuned:<20.4f} | {recall_tuned - 0.7801:<+15.4f}\")\n",
        "print(f\"{'F1-score':<15} | {0.8429:<20.4f} | {f1_tuned:<20.4f} | {f1_tuned - 0.8429:<+15.4f}\")\n",
        "print(f\"{'ROC-AUC':<15} | {0.9215:<20.4f} | {roc_auc_tuned:<20.4f} | {roc_auc_tuned - 0.9215:<+15.4f}\")\n",
        "print(\"-\" * 80)\n",
        "\n",
        "# Discussion of the results\n",
        "print(\"\\nDiscussion:\")\n",
        "print(\"Hyperparameter tuning resulted in slight improvements in most evaluation metrics for the XGBoost model.\")\n",
        "print(f\"- Accuracy increased by {accuracy_tuned - 0.9590:.4f}.\")\n",
        "print(f\"- Precision saw a notable increase of {precision_tuned - 0.9167:.4f}.\")\n",
        "print(f\"- Recall slightly decreased by {recall_tuned - 0.7801:.4f}.\")\n",
        "print(f\"- F1-score showed a small improvement of {f1_tuned - 0.8429:.4f}.\")\n",
        "print(f\"- ROC-AUC, a robust metric for imbalanced data, also improved by {roc_auc_tuned - 0.9215:.4f}.\")\n",
        "print(\"Overall, the tuned model demonstrates slightly better performance, particularly in Precision and ROC-AUC, indicating a better trade-off between correctly identifying positive cases and minimizing false positives.\")\n",
        "\n",
        "# Plot ROC curves for both untuned and tuned XGBoost models\n",
        "plt.figure(figsize=(10, 8))\n",
        "plt.plot([0, 1], [0, 1], 'k--', label='Random (AUC = 0.50)') # Random baseline\n",
        "\n",
        "# ROC for Untuned XGBoost (using metrics from previous evaluation)\n",
        "fpr_untuned, tpr_untuned, _ = roc_curve(y_test, xgb_model.predict_proba(X_test)[:, 1])\n",
        "roc_auc_untuned = roc_auc_score(y_test, xgb_model.predict_proba(X_test)[:, 1])\n",
        "plt.plot(fpr_untuned, tpr_untuned, label=f'Untuned XGBoost (AUC = {roc_auc_untuned:.2f})')\n",
        "\n",
        "# ROC for Tuned XGBoost (using metrics from the current cell)\n",
        "fpr_tuned, tpr_tuned, _ = roc_curve(y_test, tuned_xgb_model.predict_proba(X_test)[:, 1])\n",
        "roc_auc_tuned = roc_auc_score(y_test, tuned_xgb_model.predict_proba(X_test)[:, 1])\n",
        "plt.plot(fpr_tuned, tpr_tuned, label=f'Tuned XGBoost (AUC = {roc_auc_tuned:.2f})')\n",
        "\n",
        "plt.xlabel('False Positive Rate')\n",
        "plt.ylabel('True Positive Rate')\n",
        "plt.title('ROC Curve Comparison: Untuned vs. Tuned XGBoost')\n",
        "plt.legend()\n",
        "plt.grid(True)\n",
        "plt.show()"
      ]
    },
    {
      "cell_type": "markdown",
      "metadata": {
        "id": "94b82751"
      },
      "source": [
        "## Interpret Tuned Model\n",
        "Updated feature importance ranking."
      ]
    },
    {
      "cell_type": "markdown",
      "metadata": {
        "id": "de2088b6"
      },
      "source": [
        "Rank, display, and visualise relative contributions."
      ]
    },
    {
      "cell_type": "code",
      "execution_count": 182,
      "metadata": {
        "colab": {
          "base_uri": "https://localhost:8080/",
          "height": 1000
        },
        "id": "ce3cc1ac",
        "outputId": "74383591-cd0d-46f4-cfcd-361c50560a76"
      },
      "outputs": [
        {
          "name": "stdout",
          "output_type": "stream",
          "text": [
            "Top 15 Features (Tuned XGB):\n",
            "international_plan_no            0.136565\n",
            "number_customer_service_calls    0.136151\n",
            "international_plan_yes           0.126280\n",
            "total_day_minutes                0.076631\n",
            "total_intl_calls                 0.065410\n",
            "total_intl_charge                0.062259\n",
            "number_vmail_messages            0.057042\n",
            "total_eve_charge                 0.055328\n",
            "total_day_charge                 0.054361\n",
            "voice_mail_plan_no               0.048370\n",
            "total_intl_minutes               0.041047\n",
            "total_eve_minutes                0.033499\n",
            "total_night_charge               0.024765\n",
            "total_night_minutes              0.023424\n",
            "total_night_calls                0.013847\n",
            "dtype: float32\n"
          ]
        },
        {
          "name": "stderr",
          "output_type": "stream",
          "text": [
            "/tmp/ipykernel_3337/2833843247.py:6: FutureWarning: \n",
            "\n",
            "Passing `palette` without assigning `hue` is deprecated and will be removed in v0.14.0. Assign the `y` variable to `hue` and set `legend=False` for the same effect.\n",
            "\n",
            "  sns.barplot(x=tuned_importance_series.head(15).values, y=tuned_importance_series.head(15).index, palette='viridis')\n"
          ]
        },
        {
          "data": {
            "image/png": "[encoded data removed]",
            "text/plain": [
              "<Figure size 1000x600 with 1 Axes>"
            ]
          },
          "metadata": {},
          "output_type": "display_data"
        }
      ],
      "source": [
        "tuned_importance_series = pd.Series(tuned_xgb_model.feature_importances_, index=X_train.columns).sort_values(ascending=False)\n",
        "print(\"Top 15 Features (Tuned XGB):\")\n",
        "print(tuned_importance_series.head(15))\n",
        "\n",
        "plt.figure(figsize=(10, 6))\n",
        "sns.barplot(x=tuned_importance_series.head(15).values, y=tuned_importance_series.head(15).index, palette='viridis')\n",
        "plt.title('XGBoost Feature Importance (Tuned)')\n",
        "plt.xlabel('Importance')\n",
        "plt.ylabel('Feature')\n",
        "plt.tight_layout()\n",
        "plt.show()"
      ]
    },
    {
      "cell_type": "markdown",
      "metadata": {
        "id": "be84b442"
      },
      "source": [
        "## Insights & Recommended Actions\n",
        "Translate model outputs to practical levers."
      ]
    },
    {
      "cell_type": "markdown",
      "metadata": {
        "id": "2c6faa62"
      },
      "source": [
        "Summarise main drivers, propose targeted retention actions, note limitations."
      ]
    },
    {
      "cell_type": "code",
      "execution_count": 183,
      "metadata": {
        "colab": {
          "base_uri": "https://localhost:8080/"
        },
        "id": "6761acf8",
        "outputId": "45e58de9-0c43-4dd8-c9bd-3afed339fe18"
      },
      "outputs": [
        {
          "name": "stdout",
          "output_type": "stream",
          "text": [
            "--- Analysis of Tuned XGBoost Model Performance ---\n",
            "Accuracy: 0.9610 - Overall correctness of the model's predictions.\n",
            "Precision: 0.9397 - Proportion of predicted churners that actually churned. A high precision means fewer false positives (identifying non-churners as churners).\n",
            "Recall: 0.7730 - Proportion of actual churners that were correctly identified by the model. A high recall means fewer false negatives (failing to identify actual churners).\n",
            "F1-score: 0.8482 - Harmonic mean of precision and recall, providing a balanced measure of the model's performance, especially useful for imbalanced datasets.\n",
            "ROC-AUC: 0.9281 - Measure of the model's ability to distinguish between churners and non-churners across all possible classification thresholds. A value close to 1 indicates excellent discriminatory power.\n",
            "--------------------------------------------------\n",
            "The tuned XGBoost model shows strong performance, particularly in Precision and ROC-AUC, indicating it is effective at identifying churners with a relatively low rate of false positives.\n",
            "\n",
            "--- Top 5 Most Important Features (Tuned XGBoost) ---\n",
            "international_plan_no            0.136565\n",
            "number_customer_service_calls    0.136151\n",
            "international_plan_yes           0.126280\n",
            "total_day_minutes                0.076631\n",
            "total_intl_calls                 0.065410\n",
            "dtype: float32\n",
            "\n",
            "--- Actionable Insights from Top Features ---\n",
            "- Customers with an 'international_plan' (international_plan_yes) are significantly more likely to churn compared to those without one (international_plan_no). This is a major churn driver.\n",
            "- The number of customer service calls is a strong indicator of churn. Customers making more calls are at higher risk.\n",
            "- High total day minutes/charge also contribute to churn, suggesting dissatisfaction with daily usage costs or limits.\n",
            "- High total international calls/charge are important factors, similar to daily usage but specific to international activity.\n",
            "- The number of voice mail messages also plays a role, though less significant than the top features. Customers with fewer voice mail messages might be slightly more prone to churn (inferred from voice_mail_plan_no importance relative to yes).\n",
            "\n",
            "--- Recommendations to Reduce Churn ---\n",
            "1. Address International Plan Issues: Investigate why customers with international plans are churning. This could involve reviewing pricing, improving international service quality, or offering alternative international packages.\n",
            "2. Improve Customer Service: Analyze the reasons behind high customer service call volumes for at-risk customers. Implement strategies to resolve issues more efficiently, improve first-call resolution rates, and potentially offer proactive support to customers with frequent issues.\n",
            "3. Optimize Day Usage Plans: Review the structure and pricing of day usage plans. Consider offering more flexible or cost-effective options for high-usage customers or providing alerts/recommendations to manage usage.\n",
            "4. Enhance International Usage Experience: Similar to day usage, examine international calling rates and service quality. Offer competitive international plans or provide tools to monitor and control international spending.\n",
            "5. Evaluate Voice Mail Plan Value: Understand the relationship between voice mail usage and churn. If customers without voice mail are slightly more likely to churn, consider promoting the value of voice mail or exploring if it's a proxy for other service engagement issues.\n",
            "6. Proactive Outreach: Identify customers who exhibit characteristics of high churn risk (e.g., high service calls, high day/intl usage) and proactively reach out to address their concerns or offer personalized solutions.\n",
            "\n",
            "--- Limitations of the Model and Analysis ---\n",
            "- Correlation vs. Causation: While the model identifies features correlated with churn, it does not definitively prove causation. Further qualitative research may be needed to understand the underlying reasons for churn.\n",
            "- 'State' Feature Exclusion: The 'state' feature was excluded from the model. Geographic factors or state-specific market conditions could influence churn and are not captured by this model.\n",
            "- Data Staticness: The analysis is based on a snapshot of data. Customer behavior and market conditions can change over time, requiring periodic model retraining and re-evaluation.\n",
            "- Imbalance Handling: Although evaluation metrics for imbalanced datasets were used, the class imbalance could still pose challenges for perfect prediction, especially for the minority class (churn).\n"
          ]
        }
      ],
      "source": [
        "# 1. Analyze the evaluation metrics of the tuned XGBoost model\n",
        "print(\"--- Analysis of Tuned XGBoost Model Performance ---\")\n",
        "print(f\"Accuracy: {accuracy_tuned:.4f} - Overall correctness of the model's predictions.\")\n",
        "print(f\"Precision: {precision_tuned:.4f} - Proportion of predicted churners that actually churned. A high precision means fewer false positives (identifying non-churners as churners).\")\n",
        "print(f\"Recall: {recall_tuned:.4f} - Proportion of actual churners that were correctly identified by the model. A high recall means fewer false negatives (failing to identify actual churners).\")\n",
        "print(f\"F1-score: {f1_tuned:.4f} - Harmonic mean of precision and recall, providing a balanced measure of the model's performance, especially useful for imbalanced datasets.\")\n",
        "print(f\"ROC-AUC: {roc_auc_tuned:.4f} - Measure of the model's ability to distinguish between churners and non-churners across all possible classification thresholds. A value close to 1 indicates excellent discriminatory power.\")\n",
        "print(\"-\" * 50)\n",
        "print(\"The tuned XGBoost model shows strong performance, particularly in Precision and ROC-AUC, indicating it is effective at identifying churners with a relatively low rate of false positives.\")\n",
        "\n",
        "# 2. Examine the feature importance plot and identify top features\n",
        "print(\"\\n--- Top 5 Most Important Features (Tuned XGBoost) ---\")\n",
        "top_n = 5\n",
        "print(tuned_importance_series.head(top_n))\n",
        "\n",
        "# 3. Derive actionable insights from important features\n",
        "print(\"\\n--- Actionable Insights from Top Features ---\")\n",
        "# Based on tuned_importance_series ordering:\n",
        "# Top feature: international_plan_no/yes\n",
        "# Second top: number_customer_service_calls\n",
        "# Third top: total_day_minutes / total_day_charge (often highly correlated)\n",
        "# Fourth top: total_intl_calls / total_intl_charge (often highly correlated)\n",
        "# Fifth top: number_vmail_messages\n",
        "\n",
        "print(\"- Customers with an 'international_plan' (international_plan_yes) are significantly more likely to churn compared to those without one (international_plan_no). This is a major churn driver.\")\n",
        "print(\"- The number of customer service calls is a strong indicator of churn. Customers making more calls are at higher risk.\")\n",
        "print(\"- High total day minutes/charge also contribute to churn, suggesting dissatisfaction with daily usage costs or limits.\")\n",
        "print(\"- High total international calls/charge are important factors, similar to daily usage but specific to international activity.\")\n",
        "print(\"- The number of voice mail messages also plays a role, though less significant than the top features. Customers with fewer voice mail messages might be slightly more prone to churn (inferred from voice_mail_plan_no importance relative to yes).\")\n",
        "\n",
        "# 4. Translate insights into recommendations\n",
        "print(\"\\n--- Recommendations to Reduce Churn ---\")\n",
        "print(\"1. Address International Plan Issues: Investigate why customers with international plans are churning. This could involve reviewing pricing, improving international service quality, or offering alternative international packages.\")\n",
        "print(\"2. Improve Customer Service: Analyze the reasons behind high customer service call volumes for at-risk customers. Implement strategies to resolve issues more efficiently, improve first-call resolution rates, and potentially offer proactive support to customers with frequent issues.\")\n",
        "print(\"3. Optimize Day Usage Plans: Review the structure and pricing of day usage plans. Consider offering more flexible or cost-effective options for high-usage customers or providing alerts/recommendations to manage usage.\")\n",
        "print(\"4. Enhance International Usage Experience: Similar to day usage, examine international calling rates and service quality. Offer competitive international plans or provide tools to monitor and control international spending.\")\n",
        "print(\"5. Evaluate Voice Mail Plan Value: Understand the relationship between voice mail usage and churn. If customers without voice mail are slightly more likely to churn, consider promoting the value of voice mail or exploring if it's a proxy for other service engagement issues.\")\n",
        "print(\"6. Proactive Outreach: Identify customers who exhibit characteristics of high churn risk (e.g., high service calls, high day/intl usage) and proactively reach out to address their concerns or offer personalized solutions.\")\n",
        "\n",
        "# 5. Discuss limitations\n",
        "print(\"\\n--- Limitations of the Model and Analysis ---\")\n",
        "print(\"- Correlation vs. Causation: While the model identifies features correlated with churn, it does not definitively prove causation. Further qualitative research may be needed to understand the underlying reasons for churn.\")\n",
        "print(\"- 'State' Feature Exclusion: The 'state' feature was excluded from the model. Geographic factors or state-specific market conditions could influence churn and are not captured by this model.\")\n",
        "print(\"- Data Staticness: The analysis is based on a snapshot of data. Customer behavior and market conditions can change over time, requiring periodic model retraining and re-evaluation.\")\n",
        "print(\"- Imbalance Handling: Although evaluation metrics for imbalanced datasets were used, the class imbalance could still pose challenges for perfect prediction, especially for the minority class (churn).\")"
      ]
    },
    {
      "cell_type": "markdown",
      "metadata": {
        "id": "f2ecc1a2"
      },
      "source": [
        "## Summary\n",
        "XGBoost outperformed baselines; tuning delivered marginal but meaningful gains (notably precision and ROC-AUC). Key churn drivers: international plan status, customer service call volume, daytime usage (minutes/charge), international usage. Recommended next: targeted retention offers for high-risk cohorts and periodic model recalibration."
      ]
    },
    {
      "cell_type": "markdown",
      "metadata": {
        "id": "aWQBwUaB1ty5"
      },
      "source": [
        "## High-Risk Segment (Top 500)\n",
        "Rank customers by cross-validated churn probability."
      ]
    },
    {
      "cell_type": "code",
      "execution_count": 184,
      "metadata": {
        "colab": {
          "base_uri": "https://localhost:8080/",
          "height": 569
        },
        "id": "3e7d558c",
        "outputId": "3755cc9d-26c4-46e1-de3e-984b8a123387"
      },
      "outputs": [
        {
          "name": "stdout",
          "output_type": "stream",
          "text": [
            "Generating 5-fold cross-validated predictions...\n",
            "Processing fold 1/5...\n",
            "Processing fold 2/5...\n",
            "Processing fold 3/5...\n",
            "Processing fold 4/5...\n",
            "Processing fold 3/5...\n",
            "Processing fold 4/5...\n",
            "Processing fold 5/5...\n",
            "Processing fold 5/5...\n",
            "Cross-validated predictions generated.\n",
            "\n",
            "First 10 rows with cross-validated predicted churn probabilities and actual churn:\n",
            "Cross-validated predictions generated.\n",
            "\n",
            "First 10 rows with cross-validated predicted churn probabilities and actual churn:\n"
          ]
        },
        {
          "data": {
            "text/html": [
              "<div>\n",
              "<style scoped>\n",
              "    .dataframe tbody tr th:only-of-type {\n",
              "        vertical-align: middle;\n",
              "    }\n",
              "\n",
              "    .dataframe tbody tr th {\n",
              "        vertical-align: top;\n",
              "    }\n",
              "\n",
              "    .dataframe thead th {\n",
              "        text-align: right;\n",
              "    }\n",
              "</style>\n",
              "<table border=\"1\" class=\"dataframe\">\n",
              "  <thead>\n",
              "    <tr style=\"text-align: right;\">\n",
              "      <th></th>\n",
              "      <th>area_code</th>\n",
              "      <th>number_vmail_messages</th>\n",
              "      <th>total_day_minutes</th>\n",
              "      <th>total_day_calls</th>\n",
              "      <th>total_day_charge</th>\n",
              "      <th>total_eve_minutes</th>\n",
              "      <th>total_eve_calls</th>\n",
              "      <th>total_eve_charge</th>\n",
              "      <th>total_night_minutes</th>\n",
              "      <th>total_night_calls</th>\n",
              "      <th>...</th>\n",
              "      <th>total_intl_minutes</th>\n",
              "      <th>total_intl_calls</th>\n",
              "      <th>total_intl_charge</th>\n",
              "      <th>number_customer_service_calls</th>\n",
              "      <th>international_plan_no</th>\n",
              "      <th>international_plan_yes</th>\n",
              "      <th>voice_mail_plan_no</th>\n",
              "      <th>voice_mail_plan_yes</th>\n",
              "      <th>predicted_churn_probability_cv</th>\n",
              "      <th>actual_churn</th>\n",
              "    </tr>\n",
              "  </thead>\n",
              "  <tbody>\n",
              "    <tr>\n",
              "      <th>0</th>\n",
              "      <td>-0.519166</td>\n",
              "      <td>1.273145</td>\n",
              "      <td>1.573802</td>\n",
              "      <td>-0.022214</td>\n",
              "      <td>1.574074</td>\n",
              "      <td>-0.064032</td>\n",
              "      <td>-0.060077</td>\n",
              "      <td>-0.063849</td>\n",
              "      <td>0.876999</td>\n",
              "      <td>-0.446928</td>\n",
              "      <td>...</td>\n",
              "      <td>-0.094809</td>\n",
              "      <td>-0.584236</td>\n",
              "      <td>-0.095509</td>\n",
              "      <td>-0.436676</td>\n",
              "      <td>1.0</td>\n",
              "      <td>0.0</td>\n",
              "      <td>0.0</td>\n",
              "      <td>1.0</td>\n",
              "      <td>0.003767</td>\n",
              "      <td>0</td>\n",
              "    </tr>\n",
              "    <tr>\n",
              "      <th>1</th>\n",
              "      <td>-0.519166</td>\n",
              "      <td>1.346973</td>\n",
              "      <td>-0.346802</td>\n",
              "      <td>0.007152</td>\n",
              "      <td>-0.347082</td>\n",
              "      <td>-0.101621</td>\n",
              "      <td>0.141693</td>\n",
              "      <td>-0.101089</td>\n",
              "      <td>1.068992</td>\n",
              "      <td>0.154374</td>\n",
              "      <td>...</td>\n",
              "      <td>1.245227</td>\n",
              "      <td>-0.584236</td>\n",
              "      <td>1.245982</td>\n",
              "      <td>-0.436676</td>\n",
              "      <td>1.0</td>\n",
              "      <td>0.0</td>\n",
              "      <td>0.0</td>\n",
              "      <td>1.0</td>\n",
              "      <td>0.011958</td>\n",
              "      <td>0</td>\n",
              "    </tr>\n",
              "    <tr>\n",
              "      <th>2</th>\n",
              "      <td>-0.519166</td>\n",
              "      <td>-0.572549</td>\n",
              "      <td>1.171125</td>\n",
              "      <td>-0.013178</td>\n",
              "      <td>1.171286</td>\n",
              "      <td>-1.571562</td>\n",
              "      <td>0.494791</td>\n",
              "      <td>-1.572084</td>\n",
              "      <td>-0.748012</td>\n",
              "      <td>0.204483</td>\n",
              "      <td>...</td>\n",
              "      <td>0.701969</td>\n",
              "      <td>0.229917</td>\n",
              "      <td>0.695971</td>\n",
              "      <td>-1.202236</td>\n",
              "      <td>1.0</td>\n",
              "      <td>0.0</td>\n",
              "      <td>1.0</td>\n",
              "      <td>0.0</td>\n",
              "      <td>0.009531</td>\n",
              "      <td>0</td>\n",
              "    </tr>\n",
              "    <tr>\n",
              "      <th>3</th>\n",
              "      <td>-0.685024</td>\n",
              "      <td>-0.572549</td>\n",
              "      <td>2.210292</td>\n",
              "      <td>-0.110311</td>\n",
              "      <td>2.210457</td>\n",
              "      <td>-2.744745</td>\n",
              "      <td>-0.614946</td>\n",
              "      <td>-2.745155</td>\n",
              "      <td>-0.069110</td>\n",
              "      <td>-0.547145</td>\n",
              "      <td>...</td>\n",
              "      <td>-1.326194</td>\n",
              "      <td>1.044069</td>\n",
              "      <td>-1.329681</td>\n",
              "      <td>0.328885</td>\n",
              "      <td>0.0</td>\n",
              "      <td>1.0</td>\n",
              "      <td>1.0</td>\n",
              "      <td>0.0</td>\n",
              "      <td>0.119078</td>\n",
              "      <td>0</td>\n",
              "    </tr>\n",
              "    <tr>\n",
              "      <th>4</th>\n",
              "      <td>-0.519166</td>\n",
              "      <td>-0.572549</td>\n",
              "      <td>-0.252163</td>\n",
              "      <td>-0.015437</td>\n",
              "      <td>-0.252115</td>\n",
              "      <td>-1.035419</td>\n",
              "      <td>1.100103</td>\n",
              "      <td>-1.034426</td>\n",
              "      <td>-0.267041</td>\n",
              "      <td>1.056327</td>\n",
              "      <td>...</td>\n",
              "      <td>-0.058592</td>\n",
              "      <td>-0.584236</td>\n",
              "      <td>-0.055264</td>\n",
              "      <td>1.094445</td>\n",
              "      <td>0.0</td>\n",
              "      <td>1.0</td>\n",
              "      <td>1.0</td>\n",
              "      <td>0.0</td>\n",
              "      <td>0.047682</td>\n",
              "      <td>0</td>\n",
              "    </tr>\n",
              "    <tr>\n",
              "      <th>5</th>\n",
              "      <td>1.731754</td>\n",
              "      <td>-0.572549</td>\n",
              "      <td>0.799994</td>\n",
              "      <td>-0.049321</td>\n",
              "      <td>0.800154</td>\n",
              "      <td>0.394954</td>\n",
              "      <td>0.040808</td>\n",
              "      <td>0.394673</td>\n",
              "      <td>0.069442</td>\n",
              "      <td>0.906002</td>\n",
              "      <td>...</td>\n",
              "      <td>-1.434846</td>\n",
              "      <td>0.636993</td>\n",
              "      <td>-1.437000</td>\n",
              "      <td>-1.202236</td>\n",
              "      <td>0.0</td>\n",
              "      <td>1.0</td>\n",
              "      <td>1.0</td>\n",
              "      <td>0.0</td>\n",
              "      <td>0.105954</td>\n",
              "      <td>0</td>\n",
              "    </tr>\n",
              "    <tr>\n",
              "      <th>6</th>\n",
              "      <td>1.731754</td>\n",
              "      <td>1.199317</td>\n",
              "      <td>0.703499</td>\n",
              "      <td>-0.071910</td>\n",
              "      <td>0.703005</td>\n",
              "      <td>2.925310</td>\n",
              "      <td>0.393906</td>\n",
              "      <td>2.924690</td>\n",
              "      <td>0.241641</td>\n",
              "      <td>0.906002</td>\n",
              "      <td>...</td>\n",
              "      <td>-1.000239</td>\n",
              "      <td>1.044069</td>\n",
              "      <td>-0.994308</td>\n",
              "      <td>1.094445</td>\n",
              "      <td>1.0</td>\n",
              "      <td>0.0</td>\n",
              "      <td>0.0</td>\n",
              "      <td>1.0</td>\n",
              "      <td>0.064595</td>\n",
              "      <td>0</td>\n",
              "    </tr>\n",
              "    <tr>\n",
              "      <th>7</th>\n",
              "      <td>-0.519166</td>\n",
              "      <td>-0.572549</td>\n",
              "      <td>-0.432162</td>\n",
              "      <td>-0.092240</td>\n",
              "      <td>-0.432224</td>\n",
              "      <td>-1.929650</td>\n",
              "      <td>-0.312290</td>\n",
              "      <td>-1.930522</td>\n",
              "      <td>0.225807</td>\n",
              "      <td>-0.196385</td>\n",
              "      <td>...</td>\n",
              "      <td>-1.145108</td>\n",
              "      <td>0.636993</td>\n",
              "      <td>-1.141872</td>\n",
              "      <td>-1.202236</td>\n",
              "      <td>0.0</td>\n",
              "      <td>1.0</td>\n",
              "      <td>1.0</td>\n",
              "      <td>0.0</td>\n",
              "      <td>0.020603</td>\n",
              "      <td>0</td>\n",
              "    </tr>\n",
              "    <tr>\n",
              "      <th>8</th>\n",
              "      <td>-0.685024</td>\n",
              "      <td>-0.572549</td>\n",
              "      <td>0.078144</td>\n",
              "      <td>-0.051579</td>\n",
              "      <td>0.078629</td>\n",
              "      <td>2.986640</td>\n",
              "      <td>-1.018487</td>\n",
              "      <td>2.987533</td>\n",
              "      <td>0.304979</td>\n",
              "      <td>-0.497036</td>\n",
              "      <td>...</td>\n",
              "      <td>-0.565633</td>\n",
              "      <td>-0.177160</td>\n",
              "      <td>-0.565031</td>\n",
              "      <td>-0.436676</td>\n",
              "      <td>1.0</td>\n",
              "      <td>0.0</td>\n",
              "      <td>1.0</td>\n",
              "      <td>0.0</td>\n",
              "      <td>0.142231</td>\n",
              "      <td>0</td>\n",
              "    </tr>\n",
              "    <tr>\n",
              "      <th>9</th>\n",
              "      <td>-0.519166</td>\n",
              "      <td>2.159078</td>\n",
              "      <td>1.453184</td>\n",
              "      <td>-0.080945</td>\n",
              "      <td>1.452910</td>\n",
              "      <td>0.422651</td>\n",
              "      <td>0.545234</td>\n",
              "      <td>0.422603</td>\n",
              "      <td>2.494093</td>\n",
              "      <td>-0.146277</td>\n",
              "      <td>...</td>\n",
              "      <td>0.339797</td>\n",
              "      <td>0.229917</td>\n",
              "      <td>0.333768</td>\n",
              "      <td>-1.202236</td>\n",
              "      <td>0.0</td>\n",
              "      <td>1.0</td>\n",
              "      <td>0.0</td>\n",
              "      <td>1.0</td>\n",
              "      <td>0.105708</td>\n",
              "      <td>0</td>\n",
              "    </tr>\n",
              "  </tbody>\n",
              "</table>\n",
              "<p>10 rows × 21 columns</p>\n",
              "</div>"
            ],
            "text/plain": [
              "   area_code  number_vmail_messages  total_day_minutes  total_day_calls  \\\n",
              "0  -0.519166               1.273145           1.573802        -0.022214   \n",
              "1  -0.519166               1.346973          -0.346802         0.007152   \n",
              "2  -0.519166              -0.572549           1.171125        -0.013178   \n",
              "3  -0.685024              -0.572549           2.210292        -0.110311   \n",
              "4  -0.519166              -0.572549          -0.252163        -0.015437   \n",
              "5   1.731754              -0.572549           0.799994        -0.049321   \n",
              "6   1.731754               1.199317           0.703499        -0.071910   \n",
              "7  -0.519166              -0.572549          -0.432162        -0.092240   \n",
              "8  -0.685024              -0.572549           0.078144        -0.051579   \n",
              "9  -0.519166               2.159078           1.453184        -0.080945   \n",
              "\n",
              "   total_day_charge  total_eve_minutes  total_eve_calls  total_eve_charge  \\\n",
              "0          1.574074          -0.064032        -0.060077         -0.063849   \n",
              "1         -0.347082          -0.101621         0.141693         -0.101089   \n",
              "2          1.171286          -1.571562         0.494791         -1.572084   \n",
              "3          2.210457          -2.744745        -0.614946         -2.745155   \n",
              "4         -0.252115          -1.035419         1.100103         -1.034426   \n",
              "5          0.800154           0.394954         0.040808          0.394673   \n",
              "6          0.703005           2.925310         0.393906          2.924690   \n",
              "7         -0.432224          -1.929650        -0.312290         -1.930522   \n",
              "8          0.078629           2.986640        -1.018487          2.987533   \n",
              "9          1.452910           0.422651         0.545234          0.422603   \n",
              "\n",
              "   total_night_minutes  total_night_calls  ...  total_intl_minutes  \\\n",
              "0             0.876999          -0.446928  ...           -0.094809   \n",
              "1             1.068992           0.154374  ...            1.245227   \n",
              "2            -0.748012           0.204483  ...            0.701969   \n",
              "3            -0.069110          -0.547145  ...           -1.326194   \n",
              "4            -0.267041           1.056327  ...           -0.058592   \n",
              "5             0.069442           0.906002  ...           -1.434846   \n",
              "6             0.241641           0.906002  ...           -1.000239   \n",
              "7             0.225807          -0.196385  ...           -1.145108   \n",
              "8             0.304979          -0.497036  ...           -0.565633   \n",
              "9             2.494093          -0.146277  ...            0.339797   \n",
              "\n",
              "   total_intl_calls  total_intl_charge  number_customer_service_calls  \\\n",
              "0         -0.584236          -0.095509                      -0.436676   \n",
              "1         -0.584236           1.245982                      -0.436676   \n",
              "2          0.229917           0.695971                      -1.202236   \n",
              "3          1.044069          -1.329681                       0.328885   \n",
              "4         -0.584236          -0.055264                       1.094445   \n",
              "5          0.636993          -1.437000                      -1.202236   \n",
              "6          1.044069          -0.994308                       1.094445   \n",
              "7          0.636993          -1.141872                      -1.202236   \n",
              "8         -0.177160          -0.565031                      -0.436676   \n",
              "9          0.229917           0.333768                      -1.202236   \n",
              "\n",
              "   international_plan_no  international_plan_yes  voice_mail_plan_no  \\\n",
              "0                    1.0                     0.0                 0.0   \n",
              "1                    1.0                     0.0                 0.0   \n",
              "2                    1.0                     0.0                 1.0   \n",
              "3                    0.0                     1.0                 1.0   \n",
              "4                    0.0                     1.0                 1.0   \n",
              "5                    0.0                     1.0                 1.0   \n",
              "6                    1.0                     0.0                 0.0   \n",
              "7                    0.0                     1.0                 1.0   \n",
              "8                    1.0                     0.0                 1.0   \n",
              "9                    0.0                     1.0                 0.0   \n",
              "\n",
              "   voice_mail_plan_yes  predicted_churn_probability_cv  actual_churn  \n",
              "0                  1.0                        0.003767             0  \n",
              "1                  1.0                        0.011958             0  \n",
              "2                  0.0                        0.009531             0  \n",
              "3                  0.0                        0.119078             0  \n",
              "4                  0.0                        0.047682             0  \n",
              "5                  0.0                        0.105954             0  \n",
              "6                  1.0                        0.064595             0  \n",
              "7                  0.0                        0.020603             0  \n",
              "8                  0.0                        0.142231             0  \n",
              "9                  1.0                        0.105708             0  \n",
              "\n",
              "[10 rows x 21 columns]"
            ]
          },
          "metadata": {},
          "output_type": "display_data"
        }
      ],
      "source": [
        "from sklearn.model_selection import KFold\n",
        "\n",
        "# Define the number of folds for cross-validation\n",
        "n_splits = 5\n",
        "kf = KFold(n_splits=n_splits, shuffle=True, random_state=42)\n",
        "\n",
        "# Create an array to store out-of-fold predictions\n",
        "# The shape will be the same as the number of samples in the full dataset\n",
        "oof_churn_probabilities = np.zeros(len(X))\n",
        "\n",
        "# Perform cross-validated predictions\n",
        "print(f\"Generating {n_splits}-fold cross-validated predictions...\")\n",
        "for fold, (train_index, val_index) in enumerate(kf.split(X, y)):\n",
        "    print(f\"Processing fold {fold + 1}/{n_splits}...\")\n",
        "    # Split data into training and validation sets for the current fold\n",
        "    X_train_fold, X_val_fold = X.iloc[train_index], X.iloc[val_index]\n",
        "    y_train_fold, y_val_fold = y.iloc[train_index], y.iloc[val_index]\n",
        "\n",
        "    # Train a model on the training fold (using the tuned model's parameters)\n",
        "    # We need a fresh instance for each fold to avoid data leakage\n",
        "    fold_model = xgb.XGBClassifier(random_state=42, eval_metric='logloss', **best_params)\n",
        "    fold_model.fit(X_train_fold, y_train_fold.values.ravel())\n",
        "\n",
        "    # Predict on the validation fold (out-of-sample predictions)\n",
        "    oof_churn_probabilities[val_index] = fold_model.predict_proba(X_val_fold)[:, 1]\n",
        "\n",
        "print(\"Cross-validated predictions generated.\")\n",
        "\n",
        "# Create a DataFrame to hold the out-of-fold predicted probabilities and the actual churn status\n",
        "# Use the original DataFrame's index to align with the original data\n",
        "predicted_churn_df_cv = X.copy() # Use the full feature set for indexing\n",
        "predicted_churn_df_cv['predicted_churn_probability_cv'] = oof_churn_probabilities\n",
        "predicted_churn_df_cv['actual_churn'] = df['Churn'].values # Get actual churn from original df\n",
        "\n",
        "# Display the first few rows with cross-validated predicted probabilities and actual churn\n",
        "print(\"\\nFirst 10 rows with cross-validated predicted churn probabilities and actual churn:\")\n",
        "display(predicted_churn_df_cv.head(10))\n",
        "\n",
        "# Update the dataframe used for identifying top 500 churners to use the CV predictions\n",
        "# predicted_churn_df = predicted_churn_df_cv # This line is commented out to avoid confusion,\n",
        "                                            # subsequent cells should explicitly use predicted_churn_df_cv"
      ]
    },
    {
      "cell_type": "code",
      "execution_count": 185,
      "metadata": {
        "colab": {
          "base_uri": "https://localhost:8080/",
          "height": 308
        },
        "id": "e5f49595",
        "outputId": "6a3ab72f-9cb3-40c6-c1b9-6990ced79eac"
      },
      "outputs": [
        {
          "name": "stdout",
          "output_type": "stream",
          "text": [
            "Top 500 customers with the highest cross-validated predicted churn probability:\n"
          ]
        },
        {
          "data": {
            "text/html": [
              "<div>\n",
              "<style scoped>\n",
              "    .dataframe tbody tr th:only-of-type {\n",
              "        vertical-align: middle;\n",
              "    }\n",
              "\n",
              "    .dataframe tbody tr th {\n",
              "        vertical-align: top;\n",
              "    }\n",
              "\n",
              "    .dataframe thead th {\n",
              "        text-align: right;\n",
              "    }\n",
              "</style>\n",
              "<table border=\"1\" class=\"dataframe\">\n",
              "  <thead>\n",
              "    <tr style=\"text-align: right;\">\n",
              "      <th></th>\n",
              "      <th>area_code</th>\n",
              "      <th>number_vmail_messages</th>\n",
              "      <th>total_day_minutes</th>\n",
              "      <th>total_day_calls</th>\n",
              "      <th>total_day_charge</th>\n",
              "      <th>total_eve_minutes</th>\n",
              "      <th>total_eve_calls</th>\n",
              "      <th>total_eve_charge</th>\n",
              "      <th>total_night_minutes</th>\n",
              "      <th>total_night_calls</th>\n",
              "      <th>...</th>\n",
              "      <th>total_intl_minutes</th>\n",
              "      <th>total_intl_calls</th>\n",
              "      <th>total_intl_charge</th>\n",
              "      <th>number_customer_service_calls</th>\n",
              "      <th>international_plan_no</th>\n",
              "      <th>international_plan_yes</th>\n",
              "      <th>voice_mail_plan_no</th>\n",
              "      <th>voice_mail_plan_yes</th>\n",
              "      <th>predicted_churn_probability_cv</th>\n",
              "      <th>actual_churn</th>\n",
              "    </tr>\n",
              "  </thead>\n",
              "  <tbody>\n",
              "    <tr>\n",
              "      <th>985</th>\n",
              "      <td>-0.519166</td>\n",
              "      <td>-0.572549</td>\n",
              "      <td>3.089873</td>\n",
              "      <td>-0.146453</td>\n",
              "      <td>3.090259</td>\n",
              "      <td>0.966707</td>\n",
              "      <td>-1.068929</td>\n",
              "      <td>0.967243</td>\n",
              "      <td>1.484646</td>\n",
              "      <td>0.104266</td>\n",
              "      <td>...</td>\n",
              "      <td>1.100358</td>\n",
              "      <td>1.858221</td>\n",
              "      <td>1.098418</td>\n",
              "      <td>-0.436676</td>\n",
              "      <td>0.0</td>\n",
              "      <td>1.0</td>\n",
              "      <td>1.0</td>\n",
              "      <td>0.0</td>\n",
              "      <td>0.999940</td>\n",
              "      <td>1</td>\n",
              "    </tr>\n",
              "    <tr>\n",
              "      <th>3205</th>\n",
              "      <td>-0.685024</td>\n",
              "      <td>-0.572549</td>\n",
              "      <td>2.123076</td>\n",
              "      <td>-0.067392</td>\n",
              "      <td>2.123132</td>\n",
              "      <td>1.858960</td>\n",
              "      <td>-1.422027</td>\n",
              "      <td>1.858685</td>\n",
              "      <td>1.181812</td>\n",
              "      <td>1.056327</td>\n",
              "      <td>...</td>\n",
              "      <td>0.194928</td>\n",
              "      <td>-0.584236</td>\n",
              "      <td>0.199619</td>\n",
              "      <td>-0.436676</td>\n",
              "      <td>1.0</td>\n",
              "      <td>0.0</td>\n",
              "      <td>1.0</td>\n",
              "      <td>0.0</td>\n",
              "      <td>0.999786</td>\n",
              "      <td>1</td>\n",
              "    </tr>\n",
              "    <tr>\n",
              "      <th>914</th>\n",
              "      <td>1.731754</td>\n",
              "      <td>-0.572549</td>\n",
              "      <td>1.985757</td>\n",
              "      <td>0.007152</td>\n",
              "      <td>1.985594</td>\n",
              "      <td>1.728386</td>\n",
              "      <td>0.696562</td>\n",
              "      <td>1.728343</td>\n",
              "      <td>1.298591</td>\n",
              "      <td>0.605351</td>\n",
              "      <td>...</td>\n",
              "      <td>0.086277</td>\n",
              "      <td>-0.177160</td>\n",
              "      <td>0.092300</td>\n",
              "      <td>-1.202236</td>\n",
              "      <td>1.0</td>\n",
              "      <td>0.0</td>\n",
              "      <td>1.0</td>\n",
              "      <td>0.0</td>\n",
              "      <td>0.999698</td>\n",
              "      <td>1</td>\n",
              "    </tr>\n",
              "    <tr>\n",
              "      <th>619</th>\n",
              "      <td>-0.519166</td>\n",
              "      <td>-0.572549</td>\n",
              "      <td>2.097097</td>\n",
              "      <td>-0.092240</td>\n",
              "      <td>2.096934</td>\n",
              "      <td>-0.240108</td>\n",
              "      <td>-0.514061</td>\n",
              "      <td>-0.240741</td>\n",
              "      <td>1.316405</td>\n",
              "      <td>-0.446928</td>\n",
              "      <td>...</td>\n",
              "      <td>1.534964</td>\n",
              "      <td>-0.177160</td>\n",
              "      <td>1.541110</td>\n",
              "      <td>-1.202236</td>\n",
              "      <td>0.0</td>\n",
              "      <td>1.0</td>\n",
              "      <td>1.0</td>\n",
              "      <td>0.0</td>\n",
              "      <td>0.999616</td>\n",
              "      <td>1</td>\n",
              "    </tr>\n",
              "    <tr>\n",
              "      <th>2343</th>\n",
              "      <td>-0.685024</td>\n",
              "      <td>-0.572549</td>\n",
              "      <td>-0.007217</td>\n",
              "      <td>-0.108052</td>\n",
              "      <td>-0.007605</td>\n",
              "      <td>-0.606109</td>\n",
              "      <td>-0.110520</td>\n",
              "      <td>-0.606162</td>\n",
              "      <td>-0.193806</td>\n",
              "      <td>-0.547145</td>\n",
              "      <td>...</td>\n",
              "      <td>1.281444</td>\n",
              "      <td>-0.991312</td>\n",
              "      <td>1.286227</td>\n",
              "      <td>-0.436676</td>\n",
              "      <td>0.0</td>\n",
              "      <td>1.0</td>\n",
              "      <td>1.0</td>\n",
              "      <td>0.0</td>\n",
              "      <td>0.999428</td>\n",
              "      <td>1</td>\n",
              "    </tr>\n",
              "  </tbody>\n",
              "</table>\n",
              "<p>5 rows × 21 columns</p>\n",
              "</div>"
            ],
            "text/plain": [
              "      area_code  number_vmail_messages  total_day_minutes  total_day_calls  \\\n",
              "985   -0.519166              -0.572549           3.089873        -0.146453   \n",
              "3205  -0.685024              -0.572549           2.123076        -0.067392   \n",
              "914    1.731754              -0.572549           1.985757         0.007152   \n",
              "619   -0.519166              -0.572549           2.097097        -0.092240   \n",
              "2343  -0.685024              -0.572549          -0.007217        -0.108052   \n",
              "\n",
              "      total_day_charge  total_eve_minutes  total_eve_calls  total_eve_charge  \\\n",
              "985           3.090259           0.966707        -1.068929          0.967243   \n",
              "3205          2.123132           1.858960        -1.422027          1.858685   \n",
              "914           1.985594           1.728386         0.696562          1.728343   \n",
              "619           2.096934          -0.240108        -0.514061         -0.240741   \n",
              "2343         -0.007605          -0.606109        -0.110520         -0.606162   \n",
              "\n",
              "      total_night_minutes  total_night_calls  ...  total_intl_minutes  \\\n",
              "985              1.484646           0.104266  ...            1.100358   \n",
              "3205             1.181812           1.056327  ...            0.194928   \n",
              "914              1.298591           0.605351  ...            0.086277   \n",
              "619              1.316405          -0.446928  ...            1.534964   \n",
              "2343            -0.193806          -0.547145  ...            1.281444   \n",
              "\n",
              "      total_intl_calls  total_intl_charge  number_customer_service_calls  \\\n",
              "985           1.858221           1.098418                      -0.436676   \n",
              "3205         -0.584236           0.199619                      -0.436676   \n",
              "914          -0.177160           0.092300                      -1.202236   \n",
              "619          -0.177160           1.541110                      -1.202236   \n",
              "2343         -0.991312           1.286227                      -0.436676   \n",
              "\n",
              "      international_plan_no  international_plan_yes  voice_mail_plan_no  \\\n",
              "985                     0.0                     1.0                 1.0   \n",
              "3205                    1.0                     0.0                 1.0   \n",
              "914                     1.0                     0.0                 1.0   \n",
              "619                     0.0                     1.0                 1.0   \n",
              "2343                    0.0                     1.0                 1.0   \n",
              "\n",
              "      voice_mail_plan_yes  predicted_churn_probability_cv  actual_churn  \n",
              "985                   0.0                        0.999940             1  \n",
              "3205                  0.0                        0.999786             1  \n",
              "914                   0.0                        0.999698             1  \n",
              "619                   0.0                        0.999616             1  \n",
              "2343                  0.0                        0.999428             1  \n",
              "\n",
              "[5 rows x 21 columns]"
            ]
          },
          "metadata": {},
          "output_type": "display_data"
        },
        {
          "name": "stdout",
          "output_type": "stream",
          "text": [
            "\n",
            "Number of actual churners in the top 500 predicted churners (using CV predictions): 485\n"
          ]
        }
      ],
      "source": [
        "# Sort the DataFrame by cross-validated predicted churn probability in descending order\n",
        "sorted_predicted_churn_df_cv = predicted_churn_df_cv.sort_values(by='predicted_churn_probability_cv', ascending=False)\n",
        "\n",
        "# Select the top 500 customers\n",
        "top_500_churners_cv = sorted_predicted_churn_df_cv.head(500)\n",
        "\n",
        "print(\"Top 500 customers with the highest cross-validated predicted churn probability:\")\n",
        "display(top_500_churners_cv.head())\n",
        "\n",
        "# Check the number of actual churners in this top 500 group\n",
        "actual_churners_in_top_500_cv = top_500_churners_cv['actual_churn'].sum()\n",
        "print(f\"\\nNumber of actual churners in the top 500 predicted churners (using CV predictions): {actual_churners_in_top_500_cv}\")"
      ]
    },
    {
      "cell_type": "markdown",
      "metadata": {
        "id": "IlcPvVpN1zY9"
      },
      "source": [
        "## Random Benchmark (500 Customers)\n",
        "Monte Carlo baseline for comparison."
      ]
    },
    {
      "cell_type": "code",
      "execution_count": 186,
      "metadata": {
        "colab": {
          "base_uri": "https://localhost:8080/",
          "height": 387
        },
        "id": "2ac55dd6",
        "outputId": "6a69b035-58c0-41fe-aedd-91efa34c46db"
      },
      "outputs": [
        {
          "name": "stdout",
          "output_type": "stream",
          "text": [
            "Completed 1000 simulations.\n",
            "\n",
            "Random sample churn count stats (n=500 each):\n"
          ]
        },
        {
          "data": {
            "text/plain": [
              "count    1000.000000\n",
              "mean       70.916000\n",
              "std         7.251726\n",
              "min        50.000000\n",
              "25%        66.000000\n",
              "50%        71.000000\n",
              "75%        76.000000\n",
              "max        92.000000\n",
              "dtype: float64"
            ]
          },
          "metadata": {},
          "output_type": "display_data"
        }
      ],
      "source": [
        "# Monte Carlo sampling to create a random baseline\n",
        "n_simulations = 1000\n",
        "random_churn_counts = []\n",
        "actual_churn_full = df['Churn'].values.ravel()\n",
        "\n",
        "for _ in range(n_simulations):\n",
        "    random_indices = np.random.choice(df.index, size=500, replace=False)\n",
        "    random_churn_counts.append(df.loc[random_indices, 'Churn'].sum())\n",
        "\n",
        "random_churn_counts_series = pd.Series(random_churn_counts)\n",
        "print(f\"Completed {n_simulations} simulations.\")\n",
        "print(\"\\nRandom sample churn count stats (n=500 each):\")\n",
        "display(random_churn_counts_series.describe())"
      ]
    },
    {
      "cell_type": "code",
      "execution_count": 187,
      "metadata": {
        "colab": {
          "base_uri": "https://localhost:8080/"
        },
        "id": "f75251c7",
        "outputId": "449f1ddc-c2d8-4e0a-d3fc-12829e1eeeed"
      },
      "outputs": [
        {
          "name": "stdout",
          "output_type": "stream",
          "text": [
            "Assuming a marketing campaign effectiveness of 30%:\n",
            "\n",
            "Estimated number of churns prevented in the targeted top 500 group: 145.50\n",
            "Estimated number of churns prevented in a random sample of 500: 21.27\n",
            "\n",
            "Estimated additional churn prevented by targeting the top 500 predicted vs. random: 124.23\n",
            "This represents a **583.91%** improvement in prevented churn compared to a random campaign of the same size, assuming 30% effectiveness.\n"
          ]
        }
      ],
      "source": [
        "# Define the marketing campaign effectiveness\n",
        "effectiveness = 0.30\n",
        "\n",
        "# Mean number of actual churners in random samples of 500 from the full dataset\n",
        "mean_random_churn = random_churn_counts_series.mean()\n",
        "\n",
        "print(f\"Assuming a marketing campaign effectiveness of {effectiveness:.0%}:\")\n",
        "\n",
        "# Calculate the number of churns prevented in the targeted group\n",
        "prevented_churn_targeted = actual_churners_in_top_500_cv * effectiveness\n",
        "print(f\"\\nEstimated number of churns prevented in the targeted top 500 group: {prevented_churn_targeted:.2f}\")\n",
        "\n",
        "# Calculate the number of churns prevented in the random group (on average)\n",
        "prevented_churn_random = mean_random_churn * effectiveness\n",
        "print(f\"Estimated number of churns prevented in a random sample of 500: {prevented_churn_random:.2f}\")\n",
        "\n",
        "# Calculate the additional churn reduction from targeting compared to random\n",
        "additional_prevented_churn = prevented_churn_targeted - prevented_churn_random\n",
        "\n",
        "print(f\"\\nEstimated additional churn prevented by targeting the top 500 predicted vs. random: {additional_prevented_churn:.2f}\")\n",
        "\n",
        "# This difference can also be expressed as a percentage relative to the expected random prevented churn\n",
        "percentage_improvement_over_random_30eff = (additional_prevented_churn / prevented_churn_random) * 100 if prevented_churn_random > 0 else 0\n",
        "\n",
        "print(f\"This represents a **{percentage_improvement_over_random_30eff:.2f}%** improvement in prevented churn compared to a random campaign of the same size, assuming {effectiveness:.0%} effectiveness.\")"
      ]
    },
    {
      "cell_type": "markdown",
      "metadata": {
        "id": "7da7979e"
      },
      "source": [
        "## Campaign Impact (30% Save Rate Assumption)\n",
        "Targeted (top 500) vs random (500):\n",
        "- Model segment: 485 projected churners → ~145 retained (30%).\n",
        "- Random baseline: ~71 churners → ~21 retained.\n",
        "Net uplift ≈ +124 retained (≈5.8× improvement). Potential churn reduction ~20% vs ~3%.\n",
        "Recommendation: Prioritise model-based targeting; revisit cut-off as operational capacity evolves."
      ]
    }
  ],
  "metadata": {
    "colab": {
      "provenance": []
    },
    "kernelspec": {
      "display_name": "base",
      "language": "python",
      "name": "python3"
    },
    "language_info": {
      "codemirror_mode": {
        "name": "ipython",
        "version": 3
      },
      "file_extension": ".py",
      "mimetype": "text/x-python",
      "name": "python",
      "nbconvert_exporter": "python",
      "pygments_lexer": "ipython3",
      "version": "3.12.7"
    }
  },
  "nbformat": 4,
  "nbformat_minor": 0
}
